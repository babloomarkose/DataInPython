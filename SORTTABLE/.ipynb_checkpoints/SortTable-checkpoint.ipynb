{
 "cells": [
  {
   "cell_type": "markdown",
   "metadata": {},
   "source": [
    "ASSIGNMENT\n",
    "\n",
    "Program the following tasks in Python:\n",
    "\n",
    "The input is 100 records in a file. Each record includes a group of fields of a student: student's first name, middle initial (could be empty), last name, address, major (its default value is \"UNT\", but cannot be empty), the credit hours the student has completed, receiving scholarship or not (the value must be \"TRUE\" or \"FALSE\") and GPA. Except it is explicitly described, any field cannot be empty. You need to create the input file yourself.\n",
    "\n",
    "Your Python program sorts the records in the input file according to students' last names (you need to describe your sorting rule using comments in your Python program). Then create a Table to display the sorted 100 records, where each row is a student's record, and each column represents a field of the record such as first name, last name, etc.. Finally, output the sorted record into a file.\n",
    "\n",
    "You need to submit:\n",
    "\n",
    "The input file with 100 records (1 point).\n",
    "\n",
    "Python or Python notebook program including a description of the program functions and sorting rule. (6 points), and instruction for running the program (1 point).\n",
    "\n",
    "Sorted output file (2 points)."
   ]
  },
  {
   "cell_type": "markdown",
   "metadata": {},
   "source": [
    "INSTRUCTIONS TO RUN CODE\n",
    "STEP 1: "
   ]
  },
  {
   "cell_type": "code",
   "execution_count": null,
   "metadata": {},
   "outputs": [],
   "source": [
    "from datascience import Table # Including Table-functions from datascience package into the running instance\n",
    "\n",
    "#Load Data\n",
    "\n",
    "#Loading data from URL address of CSV file\n",
    "StudentInfo=Table.read_table('https://raw.githubusercontent.com/babloomarkose/DataInPython/master/SortTable/StudentRecord.csv')\n",
    "print(\"The Student Table: \")\n",
    "\n",
    "#Print the Student Table\n",
    "print(StudentInfo)\n",
    "\n",
    "#Sort the table according to Last name, default is Ascending order\n",
    "SortedTable=StudentInfo.sort('LastName')\n",
    "\n",
    "#Write output to file\n",
    "SortedTable.to_csv(\"https://raw.githubusercontent.com/babloomarkose/DataInPython/master/outputTable.csv\")\n",
    "\n",
    "StudentInfoSorted=Table.read_table(\"/Users/jacobdenny/Desktop/Babloo/Masters/Semester3/Python/outputTabulate.csv\")\n",
    "print(\"The Student Table sorted according to Last Name\")\n",
    "print(StudentInfoSorted)"
   ]
  }
 ],
 "metadata": {
  "kernelspec": {
   "display_name": "Python 3",
   "language": "python",
   "name": "python3"
  },
  "language_info": {
   "codemirror_mode": {
    "name": "ipython",
    "version": 3
   },
   "file_extension": ".py",
   "mimetype": "text/x-python",
   "name": "python",
   "nbconvert_exporter": "python",
   "pygments_lexer": "ipython3",
   "version": "3.7.3"
  }
 },
 "nbformat": 4,
 "nbformat_minor": 2
}
