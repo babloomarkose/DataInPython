{
 "cells": [
  {
   "cell_type": "markdown",
   "metadata": {},
   "source": [
    "A sample code in Python to print \"hello world\""
   ]
  },
  {
   "cell_type": "markdown",
   "metadata": {},
   "source": [
    "print (\"Hello World\")"
   ]
  },
  {
   "cell_type": "code",
   "execution_count": 1,
   "metadata": {},
   "outputs": [],
   "source": [
    "%matplotlib inline"
   ]
  },
  {
   "cell_type": "code",
   "execution_count": 19,
   "metadata": {},
   "outputs": [
    {
     "data": {
      "image/png": "[encoded data removed]",
      "text/plain": [
       "<Figure size 432x288 with 1 Axes>"
      ]
     },
     "metadata": {
      "needs_background": "light"
     },
     "output_type": "display_data"
    }
   ],
   "source": [
    "\n",
    "import numpy as np\n",
    "import matplotlib.pyplot as plt\n",
    "N=50\n",
    "x=np.random.rand(50)\n",
    "y=np.random.rand(50)\n",
    "color=np.random.rand(50)\n",
    "area= np.pi*(15*np.random.rand(N))**2\n",
    "plt.scatter(x,y,s=area,c=color,alpha=0.6)\n",
    "plt.show()"
   ]
  },
  {
   "cell_type": "code",
   "execution_count": 29,
   "metadata": {},
   "outputs": [
    {
     "name": "stdout",
     "output_type": "stream",
     "text": [
      "125.0\n"
     ]
    }
   ],
   "source": [
    "a=625\n",
    "a=a/5\n",
    "print(a)"
   ]
  },
  {
   "cell_type": "code",
   "execution_count": 46,
   "metadata": {
    "scrolled": true
   },
   "outputs": [
    {
     "name": "stdout",
     "output_type": "stream",
     "text": [
      "['aeiou', 'info', [1, 2, 3, 4, 5, 9], (5, 7, 8, 9)]\n"
     ]
    }
   ],
   "source": [
    "list1=['aeiou','info',[1,2,3,4,5,6],(5,7,8,9)]\n",
    "list1[2][5]=9\n",
    "print(list1)"
   ]
  },
  {
   "cell_type": "code",
   "execution_count": 43,
   "metadata": {},
   "outputs": [
    {
     "name": "stdout",
     "output_type": "stream",
     "text": [
      "[2, 3, 4]\n"
     ]
    }
   ],
   "source": [
    "list =[0,1,2,3,4,5,6,7,8,9,10]\n",
    "print(list[2:5])"
   ]
  },
  {
   "cell_type": "code",
   "execution_count": null,
   "metadata": {
    "scrolled": false
   },
   "outputs": [],
   "source": [
    "#List Comprehension\n",
    "list_1=[1,25,3,4,5,6,7,8,9,10]\n",
    "newlist=[x**2 for x in list_1 if x%5!=0]\n",
    "print(newlist)"
   ]
  },
  {
   "cell_type": "code",
   "execution_count": 2,
   "metadata": {},
   "outputs": [
    {
     "name": "stdout",
     "output_type": "stream",
     "text": [
      "Input range\n",
      "1 31 5\n",
      "13\n"
     ]
    }
   ],
   "source": [
    "# Given a range of days and a divisor, find the number of beautiful days. \n",
    "#Day is beautiful if the difference between the day and it reverse is divisible by the divisor\n",
    "# beautifulDays function .\n",
    "def beautifulDays(i, j, k):\n",
    "    #Error: j+1\n",
    "    beautiful_days=len([l for l in range(i,j+1) if (abs(reverseNumber(l)-l) % k) ==0])\n",
    "    return beautiful_days\n",
    "\n",
    "#Find reverse of function\n",
    "def reverseNumber(Number):\n",
    "    Reverse = 0\n",
    "    while(Number > 0):\n",
    "        Reminder = Number %10\n",
    "        Reverse = (Reverse *10) + Reminder\n",
    "        Number = Number//10 #Error Number/10    \n",
    "    return Reverse\n",
    "\n",
    "# Get the range and Divisor, Split into list values\n",
    "print(\"Input range\")\n",
    "ijk = input().split()\n",
    "#Typecast to integer and store in different variable as funtion input() takes everything as string  \n",
    "i = int(ijk[0])# Error String\n",
    "\n",
    "j = int(ijk[1])\n",
    "\n",
    "k = int(ijk[2])\n",
    "\n",
    "result = beautifulDays(i, j, k)\n",
    "print(result)\n"
   ]
  },
  {
   "cell_type": "code",
   "execution_count": 4,
   "metadata": {},
   "outputs": [
    {
     "name": "stdout",
     "output_type": "stream",
     "text": [
      "Enter Number\n",
      "32\n",
      "5\n"
     ]
    }
   ],
   "source": [
    "# Find the sum of digit of a number\n",
    "\n",
    "def addDigits(n):\n",
    "    sum1 =0\n",
    "    while(n > 0):\n",
    "        Reminder = n %10\n",
    "        sum1 = sum1 + Reminder\n",
    "        n=n//10\n",
    "    print(sum1)\n",
    "    \n",
    "    \n",
    "#Get the number\n",
    "print(\"Enter Number\")\n",
    "ijk = input()\n",
    "#Convert to integer\n",
    "n=int(ijk)\n",
    "#Find sum of digits\n",
    "addDigits(n)"
   ]
  },
  {
   "cell_type": "code",
   "execution_count": 20,
   "metadata": {},
   "outputs": [
    {
     "name": "stdout",
     "output_type": "stream",
     "text": [
      "Enter the number of rows:1\n",
      "Enter the number of columns:1\n",
      "Enter Matrix, Seperate each element using space\n",
      "1\n",
      "True\n"
     ]
    }
   ],
   "source": [
    "import numpy as np\n",
    "def isDiagonalMatrix(matrix):\n",
    "    result = np.all(matrix == np.diag(np.diagonal(matrix)))\n",
    "    if (result==1):\n",
    "        print('True')\n",
    "    else:\n",
    "        print('False')\n",
    "    \n",
    "'''print(\"Enter Number of coloumns\")\n",
    "input_string=input()\n",
    "C=int(input_string)\n",
    "print(\"Enter Number of rows\")\n",
    "input_string=input()\n",
    "R=int(input_string)\n",
    "mat = [[int(input()) for x in range (C)] for y in range(R)] \n",
    "isDiagonalMatrix(mat)'''\n",
    "\n",
    "R = int(input(\"Enter the number of rows:\")) \n",
    "C = int(input(\"Enter the number of columns:\"))\n",
    "print(\"Enter Matrix, Seperate each element using space\")\n",
    "matrix = list(map(int, input().split())) \n",
    "mat = np.array(matrix).reshape(R, C)\n",
    "isDiagonalMatrix(mat)"
   ]
  },
  {
   "cell_type": "code",
   "execution_count": 12,
   "metadata": {},
   "outputs": [
    {
     "name": "stdout",
     "output_type": "stream",
     "text": [
      "Enter list elements separated by space \n",
      "1 3 2 4 6 3 8\n",
      "3\n"
     ]
    }
   ],
   "source": [
    "# Find median of a list of numbers\n",
    "def arrayMedian(sequence):\n",
    "  sequence.sort()\n",
    "  n=len(sequence)\n",
    "  midodd=(n//2)+1\n",
    "  if (n%2!=0):\n",
    "    mid=n//2\n",
    "    median=sequence[mid]\n",
    "  else:\n",
    "    mid1= n//2-1\n",
    "    mid2= mid1+1\n",
    "    median2= sequence[mid1]  + sequence[mid2]\n",
    "    median = median2/2\n",
    "  print(median)\n",
    "\n",
    "\n",
    "print(\"Enter list elements separated by space \")\n",
    "list1 = input().split()\n",
    "sequence=[int(i) for i in list1]\n",
    "arrayMedian(sequence)"
   ]
  },
  {
   "cell_type": "code",
   "execution_count": 48,
   "metadata": {},
   "outputs": [
    {
     "data": {
      "text/html": [
       "<table border=\"1\" class=\"dataframe\">\n",
       "    <thead>\n",
       "        <tr>\n",
       "            <th>FirstName</th> <th>MiddleInitial</th> <th>LastName</th> <th>Address</th> <th>PhoneNumber</th> <th>Major</th> <th>emailId</th>\n",
       "        </tr>\n",
       "    </thead>\n",
       "    <tbody>\n",
       "        <tr>\n",
       "            <td>Joann    </td> <td>M            </td> <td>Abraham </td> <td>8401 Memoral ln</td> <td>4699100305 </td> <td>Med            </td> <td>JoannAbraham@gmail.com</td>\n",
       "        </tr>\n",
       "        <tr>\n",
       "            <td>Denny    </td> <td>E            </td> <td>Jacob   </td> <td>8401 Memoral ln</td> <td>6125623930 </td> <td>CS             </td> <td>Denjac@gmail.com      </td>\n",
       "        </tr>\n",
       "        <tr>\n",
       "            <td>Babloo   </td> <td>E            </td> <td>Markose </td> <td>8401 Memoral ln</td> <td>8609679915 </td> <td>Data Science   </td> <td>Babmark@gmail.com     </td>\n",
       "        </tr>\n",
       "        <tr>\n",
       "            <td>Babith   </td> <td>E            </td> <td>Markose </td> <td>8401 Memoral ln</td> <td>8609679915 </td> <td>HotelManagement</td> <td>Babitmark@gmail.com   </td>\n",
       "        </tr>\n",
       "        <tr>\n",
       "            <td>Shalaque </td> <td>Eravi        </td> <td>aoby    </td> <td>Kangazha       </td> <td>123456     </td> <td>Science        </td> <td>Shalu@gmail.com       </td>\n",
       "        </tr>\n",
       "        <tr>\n",
       "            <td>Rooney   </td> <td>Eravi        </td> <td>bavi    </td> <td>Kangazha       </td> <td>123456     </td> <td>Science        </td> <td>rooney@gmail.com      </td>\n",
       "        </tr>\n",
       "    </tbody>\n",
       "</table>"
      ],
      "text/plain": [
       "<IPython.core.display.HTML object>"
      ]
     },
     "metadata": {},
     "output_type": "display_data"
    }
   ],
   "source": [
    "'''Table Creation\n",
    "   Insert New rows in table\n",
    "   Sort Table'''\n",
    "\n",
    "import numpy as np\n",
    "from datascience import *\n",
    "\n",
    "\n",
    "#StudentInfo = Table.read_table('https://www.inferentialthinking.com/data/baby.csv')\n",
    "\n",
    "def make_array(*elements):\n",
    "    if elements and all(isinstance(item, (int, np.integer)) for item in elements):\n",
    "        # Specifically added for Windows machines where the default \n",
    "        # integer is int32 - see GH issue #339.\n",
    "        return np.array(elements, dtype=\"int64\")\n",
    "    return np.array(elements)\n",
    "def append(self, row_or_table):\n",
    "        \"\"\"Append a row or all rows of a table. An appended table must have all\n",
    "        columns of self.\"\"\"\n",
    "        if not row_or_table:\n",
    "            return\n",
    "        if isinstance(row_or_table, Table):\n",
    "            t = row_or_table\n",
    "            columns = list(t.select(self.labels)._columns.values())\n",
    "            n = t.num_rows\n",
    "        else:\n",
    "            if (len(list(row_or_table)) != self.num_columns):\n",
    "                raise Exception('Row should have '+ str(self.num_columns) + \" columns\")\n",
    "            columns, n = [[value] for value in row_or_table], 1\n",
    "        for i, column in enumerate(self._columns):\n",
    "            if self.num_rows:\n",
    "                self._columns[column] = np.append(self[column], columns[i])\n",
    "            else:\n",
    "                self._columns[column] = np.array(columns[i])\n",
    "        self._num_rows += n\n",
    "        return self\n",
    "\n",
    "#StudentInfo = Table(make_array('FirstName','MiddleInitial','LastName','Address','PhoneNumber','Major','emailId'))\n",
    "\n",
    "StudentInfo = Table().with_columns('FirstName',make_array('Rooney','Shalaque'),\n",
    "                                   'MiddleInitial',make_array('Eravi','Eravi'),\n",
    "                                   'LastName',make_array('bavi','aoby'),\n",
    "                                   'Address',make_array('Kangazha','Kangazha'),\n",
    "                                   'PhoneNumber',make_array('123456','123456'),\n",
    "                                   'Major',make_array('Science','Science'),\n",
    "                                   'emailId',make_array('rooney@gmail.com','Shalu@gmail.com'))\n",
    "StudentInfo.append(['Babloo','E','Markose','8401 Memoral ln','8609679915','Data Science','Babmark@gmail.com'])\n",
    "StudentInfo.append(['Denny','E','Jacob','8401 Memoral ln','6125623930','CS','Denjac@gmail.com'])\n",
    "StudentInfo.append(['Babith','E','Markose','8401 Memoral ln','8609679915','HotelManagement','Babitmark@gmail.com'])\n",
    "StudentInfo.append(['Joann','M','Abraham','8401 Memoral ln','4699100305','Med','JoannAbraham@gmail.com'])\n",
    "\n",
    "SortedTable=StudentInfo.sort('LastName')\n",
    "\n",
    "SortedTable.show()\n",
    "\n",
    "#clustering based on last neme"
   ]
  },
  {
   "cell_type": "code",
   "execution_count": 32,
   "metadata": {},
   "outputs": [
    {
     "ename": "NameError",
     "evalue": "name 'matplotlib' is not defined",
     "output_type": "error",
     "traceback": [
      "\u001b[0;31m---------------------------------------------------------------------------\u001b[0m",
      "\u001b[0;31mNameError\u001b[0m                                 Traceback (most recent call last)",
      "\u001b[0;32m<ipython-input-32-f4939351bffd>\u001b[0m in \u001b[0;36m<module>\u001b[0;34m\u001b[0m\n\u001b[1;32m     48\u001b[0m \u001b[0mcum_counts\u001b[0m\u001b[0;34m.\u001b[0m\u001b[0mplot\u001b[0m\u001b[0;34m(\u001b[0m\u001b[0mcolumn_for_xticks\u001b[0m\u001b[0;34m=\u001b[0m\u001b[0;36m3\u001b[0m\u001b[0;34m)\u001b[0m\u001b[0;34m\u001b[0m\u001b[0;34m\u001b[0m\u001b[0m\n\u001b[1;32m     49\u001b[0m \u001b[0;34m\u001b[0m\u001b[0m\n\u001b[0;32m---> 50\u001b[0;31m \u001b[0mmatplotlib\u001b[0m\u001b[0;34m.\u001b[0m\u001b[0mpyplot\u001b[0m\u001b[0;34m.\u001b[0m\u001b[0mtitle\u001b[0m\u001b[0;34m(\u001b[0m\u001b[0;34m'Cumulative Number of Times Each Name Appears'\u001b[0m\u001b[0;34m,\u001b[0m \u001b[0my\u001b[0m\u001b[0;34m=\u001b[0m\u001b[0;36m1.08\u001b[0m\u001b[0;34m)\u001b[0m\u001b[0;34m;\u001b[0m\u001b[0;34m\u001b[0m\u001b[0;34m\u001b[0m\u001b[0m\n\u001b[0m\u001b[1;32m     51\u001b[0m \u001b[0;34m\u001b[0m\u001b[0m\n\u001b[1;32m     52\u001b[0m \u001b[0mmatplotlib\u001b[0m\u001b[0;34m.\u001b[0m\u001b[0mpyplot\u001b[0m\u001b[0;34m.\u001b[0m\u001b[0mshow\u001b[0m\u001b[0;34m(\u001b[0m\u001b[0;34m)\u001b[0m\u001b[0;34m\u001b[0m\u001b[0;34m\u001b[0m\u001b[0m\n",
      "\u001b[0;31mNameError\u001b[0m: name 'matplotlib' is not defined"
     ]
    },
    {
     "data": {
      "image/png": "[encoded data removed]",
      "text/plain": [
       "<Figure size 432x288 with 1 Axes>"
      ]
     },
     "metadata": {
      "needs_background": "light"
     },
     "output_type": "display_data"
    },
    {
     "data": {
      "image/png": "[encoded data removed]",
      "text/plain": [
       "<Figure size 432x288 with 1 Axes>"
      ]
     },
     "metadata": {
      "needs_background": "light"
     },
     "output_type": "display_data"
    }
   ],
   "source": [
    "from datascience import *\n",
    "import urllib\n",
    "import numpy as np\n",
    "%matplotlib inline\n",
    "\n",
    "huck_finn_url = 'https://www.inferentialthinking.com/data/huck_finn.txt'\n",
    "f = urllib.request.urlopen(huck_finn_url)\n",
    "huck_finn_text = str(f.read())\n",
    "#huck_finn_text = read_url(huck_finn_url)\n",
    "huck_finn_chapters = huck_finn_text.split('CHAPTER ') [44:]\n",
    "\n",
    "little_women_url = 'https://www.inferentialthinking.com/data/little_women.txt'\n",
    "f1=urllib.request.urlopen(little_women_url)\n",
    "little_women_text = str(f1.read())\n",
    "little_women_chapters = little_women_text.split('CHAPTER ')[1:]\n",
    "\n",
    "Table().with_column('Chapters', huck_finn_chapters)\n",
    "\n",
    "# Count how many times the names Jim, Tom, and Huck appear in each chapter.\n",
    "\n",
    "counts = Table().with_columns([\n",
    "        'Jim', np.char.count(huck_finn_chapters, 'Jim'),\n",
    "        'Tom', np.char.count(huck_finn_chapters, 'Tom'),\n",
    "        'Huck', np.char.count(huck_finn_chapters, 'Huck')\n",
    "    ])\n",
    "\n",
    "# Plot the cumulative counts:\n",
    "# how many times in Chapter 1, how many times in Chapters 1 and 2, and so on.\n",
    "\n",
    "cum_counts = counts.cumsum().with_column('Chapter', np.arange(1, 44, 1))\n",
    "cum_counts.plot(column_for_xticks=3)\n",
    "\n",
    "#matplotlib.pyplot.title('Cumulative Number of Times Each Name Appears', y=1.08);\n",
    "\n",
    "#matplotlib.pyplot.show()\n",
    "\n",
    "\n",
    "counts = Table().with_columns([\n",
    "        'Jim', np.char.count(huck_finn_chapters, 'Jim'),\n",
    "        'Tom', np.char.count(huck_finn_chapters, 'Tom'),\n",
    "        'Huck', np.char.count(huck_finn_chapters, 'Huck')\n",
    "    ])\n",
    "\n",
    "# Plot the cumulative counts:\n",
    "# how many times in Chapter 1, how many times in Chapters 1 and 2, and so on.\n",
    "\n",
    "cum_counts = counts.cumsum().with_column('Chapter', np.arange(1, 44, 1))\n",
    "cum_counts.plot(column_for_xticks=3)\n",
    "\n",
    "matplotlib.pyplot.title('Cumulative Number of Times Each Name Appears', y=1.08);\n",
    "\n",
    "matplotlib.pyplot.show()"
   ]
  },
  {
   "cell_type": "code",
   "execution_count": null,
   "metadata": {},
   "outputs": [],
   "source": [
    "#get current directory\n",
    "import os\n",
    "os.getcwd()"
   ]
  },
  {
   "cell_type": "code",
   "execution_count": 1,
   "metadata": {},
   "outputs": [
    {
     "name": "stdout",
     "output_type": "stream",
     "text": [
      "Enter number od days after initial launch\n",
      "3\n",
      "Number of people liked = 9\n"
     ]
    }
   ],
   "source": [
    "import math\n",
    "\n",
    "def viralAdvertising(n):\n",
    "    shared =0\n",
    "    liked=0\n",
    "    TotalShares=0\n",
    "    for i in range(1,n+1):\n",
    "        if i==1:\n",
    "            shared = 5\n",
    "        else:\n",
    "            shared = liked*3\n",
    "        liked= math.floor((shared/2))\n",
    "        TotalShares = TotalShares + liked\n",
    "    return TotalShares\n",
    "\n",
    "\n",
    "print(\"Enter number od days after initial launch\")\n",
    "n=int(input())\n",
    "PeopleLiked=viralAdvertising(n)\n",
    "print(\"Number of people liked =\",PeopleLiked)"
   ]
  },
  {
   "cell_type": "code",
   "execution_count": 5,
   "metadata": {},
   "outputs": [
    {
     "name": "stdout",
     "output_type": "stream",
     "text": [
      "Enter number of prisoners\n",
      "19\n",
      "Enter number candies\n",
      "33\n",
      "Enter start position\n",
      "5\n",
      "result: 18\n"
     ]
    }
   ],
   "source": [
    "def saveThePrisoner(n, m, s):\n",
    "    if n>=m+s:\n",
    "        warn = m+s-1\n",
    "    else:\n",
    "        if(m%n!=0):\n",
    "            warn = (m%n)+s-1\n",
    "        else:\n",
    "            warn=n+s-1\n",
    "    if warn>n:\n",
    "          warn=warn-n\n",
    "\n",
    "    return (warn)\n",
    "\n",
    "print(\"Enter number of prisoners\")\n",
    "n=int(input())\n",
    "print(\"Enter number candies\")\n",
    "m=int(input())\n",
    "print(\"Enter start position\")\n",
    "s=int(input())\n",
    "result= saveThePrisoner(n, m, s)\n",
    "print(\"result:\",result)"
   ]
  },
  {
   "cell_type": "code",
   "execution_count": 34,
   "metadata": {},
   "outputs": [
    {
     "name": "stdout",
     "output_type": "stream",
     "text": [
      "new array= [8, 2, 4, 6]\n",
      "new array= [6, 8, 2, 4]\n",
      "[6, 8, 2, 4]\n",
      "n: 1\n",
      "n: 3\n",
      "[8, 4]\n"
     ]
    }
   ],
   "source": [
    "def circularArrayRotation(a, k, queries):\n",
    "    rotatedarray = list(a)\n",
    "    \n",
    "    for i in range(k):\n",
    "        rotatedarray=list(ArrayRotation(rotatedarray))\n",
    "\n",
    "    print(rotatedarray)\n",
    "    lengthqueries=len(queries)\n",
    "    outputarray=[]\n",
    "    value=0\n",
    "    for j in range(lengthqueries):\n",
    "        n=queries[j]\n",
    "        print(\"n:\",n)\n",
    "        value=rotatedarray[n]\n",
    "        outputarray.append(value)\n",
    "    return outputarray\n",
    "\n",
    "def ArrayRotation(newarray):\n",
    "    inputarray=list(newarray)\n",
    "    n=len(newarray)\n",
    "    lastelement=newarray[n-1]\n",
    "    last=[lastelement]\n",
    "    out=last+inputarray[:n-1]\n",
    "    print(\"new array=\",out)\n",
    "    return out\n",
    "\n",
    "\n",
    "f=circularArrayRotation([2,4,6,8], 2, [1,3])\n",
    "print(f)"
   ]
  },
  {
   "cell_type": "markdown",
   "metadata": {},
   "source": [
    "John Watson knows of an operation called a right circular rotation on an array of integers. One rotation operation moves the last array element to the first position and shifts all remaining elements right one. To test Sherlock's abilities, Watson provides Sherlock with an array of integers. Sherlock is to perform the rotation operation a number of times then determine the value of the element at a given position.\n",
    "\n",
    "For each array, perform a number of right circular rotations and return the value of the element at a given index.\n",
    "\n",
    "For example, array , number of rotations,  and indices to check, .\n",
    "First we perform the two rotations:\n",
    "\n",
    "Now return the values from the zero-based indices  and  as indicated in the  array.\n",
    "\n",
    "\n",
    "Function Description\n",
    "\n",
    "Complete the circularArrayRotation function in the editor below. It should return an array of integers representing the values at the specified indices.\n",
    "\n",
    "circularArrayRotation has the following parameter(s):\n",
    "\n",
    "a: an array of integers to rotate\n",
    "k: an integer, the rotation count\n",
    "queries: an array of integers, the indices to report\n",
    "Input Format\n",
    "\n",
    "The first line contains  space-separated integers, , , and , the number of elements in the integer array, the rotation count and the number of queries.\n",
    "The second line contains  space-separated integers, where each integer  describes array element  (where ).\n",
    "Each of the  subsequent lines contains a single integer denoting , the index of the element to return from .\n",
    "\n",
    "Constraints\n",
    "\n",
    "Output Format\n",
    "\n",
    "For each query, print the value of the element at index  of the rotated array on a new line."
   ]
  },
  {
   "cell_type": "code",
   "execution_count": 36,
   "metadata": {},
   "outputs": [
    {
     "name": "stdout",
     "output_type": "stream",
     "text": [
      "size: 1\n",
      "size: 3\n",
      "[8, 4]\n"
     ]
    }
   ],
   "source": [
    "def circularArrayRotation(a, k, queries):\n",
    "    size=len(a)\n",
    "    rotatedarray = list(a)\n",
    "    if(size<k and k%size!=0 ):\n",
    "        numberOfRotation=k%size\n",
    "    elif(size<k and k%size==0 ):\n",
    "        numberOfRotation=0    \n",
    "    elif (size==k):\n",
    "        numberOfRotation=0\n",
    "    else:\n",
    "        numberOfRotation=k\n",
    "        \n",
    "    if(numberOfRotation==0):\n",
    "        rotatedarray=list(a) \n",
    "    else:\n",
    "        for i in range(numberOfRotation):\n",
    "            rotatedarray=list(ArrayRotation(rotatedarray))\n",
    "    lengthqueries=len(queries)\n",
    "    outputarray=[]\n",
    "    if(lengthqueries>0):\n",
    "        for j in range(lengthqueries):\n",
    "           n=queries[j]\n",
    "           print(\"size:\",n)\n",
    "           \n",
    "           outputarray.append(rotatedarray[n])\n",
    "    return outputarray\n",
    "    \n",
    "\n",
    "def ArrayRotation(newarray):\n",
    "    n=len(newarray)\n",
    "    lastelement=newarray[n-1]\n",
    "    last=[lastelement]\n",
    "    out=last+newarray[:n-1]\n",
    "    return out\n",
    "\n",
    "f=circularArrayRotation([2,4,6,8], 2, [1,3])\n",
    "print(f)\n",
    "\n",
    "'''Fast way to do this\n",
    "    new_arr = a[-k%len(a):] + a[:-k%len(a)]\n",
    "    # list slicing is done here.  it will get the right rotated array \n",
    "\n",
    "    result = []\n",
    "    for i in queries:\n",
    "        result.append(new_arr[i])\n",
    "        # running queries on rotated array\n",
    "    return result'''"
   ]
  },
  {
   "cell_type": "markdown",
   "metadata": {},
   "source": [
    "Program the following tasks in Python:\n",
    "\n",
    "The input is 100 records in a file. Each record includes a group of fields of a student: student's first name, middle initial (could be empty), last name, address, major (its default value is \"UNT\", but cannot be empty), the credit hours the student has completed, receiving scholarship or not (the value must be \"TRUE\" or \"FALSE\") and GPA. Except it is explicitly  described, any field cannot be empty.  You need create the input file yourself.\n",
    "\n",
    "Your Python program sorts the records in the input file according to students' last names (you need describe your sorting rule using comments in your Python program). Then create a Table to display the sorted 100 records, where each row is a student's record, and each column represents a field of the record such as first name, last name, etc.. Finally, output the sorted record into a file.\n",
    "\n",
    "You need submit:\n",
    "\n",
    "1. The input file with 100 records (1 point).\n",
    "\n",
    "2. Python or Python notebook program including description of the program functions and sorting rule. (6 points), and instruction for running the program (1 point).\n",
    "\n",
    "3. Sorted output file (2 points). \n",
    "\n",
    " \n",
    "\n",
    "Please submit your assignment on time."
   ]
  },
  {
   "cell_type": "code",
   "execution_count": 44,
   "metadata": {},
   "outputs": [
    {
     "name": "stdout",
     "output_type": "stream",
     "text": [
      "The Student Table \n",
      "LastName |  FirstName | Mid_Initial | Address         | Major                   | CreditHours | Scholarship | GPA\n",
      "Baker    | Janet      | Q           | Plano,Tx        | UNT                     | 3           | True        | 4\n",
      "Kirk     | Darren     | W           | Lewisville, Tx  | Information Science     | 6           | False       | 3.67\n",
      "Meadows  | Sophie     | E           | Denton,Texas    | Data Science            | 9           | False       | 3.56\n",
      "Patel    | Ravi       | R           | Carrolton,Texas | Computer Science        | 12          | False       | 3.44\n",
      "Rogers   | Daisy      | T           | Saddlebrook,Nj  | Advanced Data Analytics | 15          | False       | 3.22\n",
      "Rogers   | Tom        | Y           | Hardford,CT     | Business Administration | 3           | False       | 3.14\n",
      "Akers    | Brett      | U           | Frisco,Tx       | Civil Engineering       | 6           | False       | 3.9\n",
      "Deakin   | John       | I           | Avon,CT         | Mechanical Engineering  | 9           | True        | 3.66\n",
      "Fisher   | Celia      | nan         | Plano,Tx        | Electrical Engineering  | 12          | False       | 3.77\n",
      "Harris   | Leo        | P           | Lewisville, Tx  | UNT                     | 15          | True        | 3.87\n",
      "... (91 rows omitted)\n",
      "The Student Table sorted according to Last Name\n",
      "LastName |  FirstName | Mid_Initial | Address        | Major                   | CreditHours | Scholarship | GPA\n",
      "ABRAM    | Qureshi    | V           | Austim,Tx      | UNT                     | 3           | True        | 4\n",
      "Abraham  | Joann      | P           | Denton,Texas   | Advanced Data Analytics | 15          | False       | 4\n",
      "Abraham  | Renjith    | L           | Saddlebrook,Nj | Electrical Engineering  | 15          | False       | 2.67\n",
      "Abraham  | Tissa      | B           | Plano,Tx       | Nanotechnology          | 9           | False       | 2.13\n",
      "Abraham  | Tibin      | nan         | Lewisville, Tx | CyberSecurity           | 12          | True        | 2.91\n",
      "Abraham  | Susy       | M           | Denton,Texas   | Physics                 | 15          | True        | 2.81\n",
      "Abraham  | Susan      | Y           | Plano,Tx       | Business Administration | 9           | False       | 3.77\n",
      "Abraham  | Jinu       | U           | Lewisville, Tx | Civil Engineering       | 12          | True        | 3.87\n",
      "Abraham  | Saramma    | nan         | Frisco,Tx      | UNT                     | 12          | False       | 3.66\n",
      "Abraham  | Thomas     | N           | Frisco,Tx      | Electrical Engineering  | 3           | False       | 4\n",
      "... (91 rows omitted)\n"
     ]
    }
   ],
   "source": [
    "from datascience import Table # Including Table functions from datascience package into the running instance\n",
    "\n",
    "#Load Data \n",
    "StudentInfo=Table.read_table('https://raw.githubusercontent.com/babloomarkose/DataInPython/master/SortTable/StudentRecord.csv')\n",
    "print(\"The Student Table \")\n",
    "print(StudentInfo)\n",
    "\n",
    "#Clean Data\n",
    "#MissingValue with Default\n",
    "#ValidateEaxch Coloumn\n",
    "\n",
    "#Sort the table according to Last name default is Ascending order\n",
    "SortedTable=StudentInfo.sort('LastName')\n",
    "\n",
    "#Write output to file\n",
    "SortedTable.to_csv(\"/Users/jacobdenny/Desktop/Babloo/Masters/Semester3/Python/outputTabulate.csv\")\n",
    "\n",
    "StudentInfoSorted=Table.read_table(\"/Users/jacobdenny/Desktop/Babloo/Masters/Semester3/Python/outputTabulate.csv\")\n",
    "print(\"The Student Table sorted according to Last Name\")\n",
    "print(StudentInfoSorted)\n",
    "\n"
   ]
  },
  {
   "cell_type": "code",
   "execution_count": 3,
   "metadata": {},
   "outputs": [
    {
     "data": {
      "text/plain": [
       "Text(0.5, 1.0, 'First Plot')"
      ]
     },
     "execution_count": 3,
     "metadata": {},
     "output_type": "execute_result"
    },
    {
     "data": {
      "image/png": "[encoded data removed]",
      "text/plain": [
       "<Figure size 432x288 with 1 Axes>"
      ]
     },
     "metadata": {
      "needs_background": "light"
     },
     "output_type": "display_data"
    }
   ],
   "source": [
    "import matplotlib.pyplot as plt\n",
    "#import pylab\n",
    "#%matplotlib inline\n",
    "x=[1,2,3]\n",
    "y=[2,4,1]\n",
    "\n",
    "plt.plot(x,y)\n",
    "\n",
    "plt.xlabel(\"X-axis\")\n",
    "plt.ylabel(\"Y-axis\")\n",
    "plt.title(\"First Plot\")\n"
   ]
  },
  {
   "cell_type": "code",
   "execution_count": 10,
   "metadata": {},
   "outputs": [
    {
     "name": "stdout",
     "output_type": "stream",
     "text": [
      "4⋅x\n",
      "4⋅y\n"
     ]
    },
    {
     "data": {
      "text/plain": [
       "([x, y], {(0, 0)})"
      ]
     },
     "execution_count": 10,
     "metadata": {},
     "output_type": "execute_result"
    }
   ],
   "source": [
    "import sympy as S\n",
    "\n",
    "x,y=S.symbols('x y')\n",
    "fxy=2*x**2+2*y**2+5\n",
    "\n",
    "fdx=S.diff(fxy,x)\n",
    "S.pprint(fdx)\n",
    "\n",
    "fdy=S.diff(fxy,y)\n",
    "S.pprint(fdy)\n",
    "\n",
    "S.solve([fdx,fdy],[x,y],set=True)"
   ]
  },
  {
   "cell_type": "code",
   "execution_count": 22,
   "metadata": {},
   "outputs": [
    {
     "ename": "OverflowError",
     "evalue": "(34, 'Result too large')",
     "output_type": "error",
     "traceback": [
      "\u001b[0;31m---------------------------------------------------------------------------\u001b[0m",
      "\u001b[0;31mOverflowError\u001b[0m                             Traceback (most recent call last)",
      "\u001b[0;32m<ipython-input-22-12177d453193>\u001b[0m in \u001b[0;36m<module>\u001b[0;34m\u001b[0m\n\u001b[1;32m      6\u001b[0m \u001b[0;32mwhile\u001b[0m\u001b[0;34m(\u001b[0m\u001b[0mprevious_step_size\u001b[0m \u001b[0;34m>\u001b[0m\u001b[0mprecision\u001b[0m\u001b[0;34m)\u001b[0m\u001b[0;34m:\u001b[0m\u001b[0;34m\u001b[0m\u001b[0;34m\u001b[0m\u001b[0m\n\u001b[1;32m      7\u001b[0m  \u001b[0mprev_x\u001b[0m\u001b[0;34m=\u001b[0m \u001b[0mcur_x\u001b[0m\u001b[0;34m\u001b[0m\u001b[0;34m\u001b[0m\u001b[0m\n\u001b[0;32m----> 8\u001b[0;31m  \u001b[0mcur_x\u001b[0m\u001b[0;34m+=\u001b[0m \u001b[0mgamma\u001b[0m\u001b[0;34m*\u001b[0m\u001b[0mdf\u001b[0m\u001b[0;34m(\u001b[0m\u001b[0mprev_x\u001b[0m\u001b[0;34m)\u001b[0m\u001b[0;34m\u001b[0m\u001b[0;34m\u001b[0m\u001b[0m\n\u001b[0m\u001b[1;32m      9\u001b[0m  \u001b[0mprevious_step_size\u001b[0m\u001b[0;34m=\u001b[0m \u001b[0mabs\u001b[0m\u001b[0;34m(\u001b[0m\u001b[0mcur_x\u001b[0m\u001b[0;34m-\u001b[0m\u001b[0mprev_x\u001b[0m\u001b[0;34m)\u001b[0m\u001b[0;34m\u001b[0m\u001b[0;34m\u001b[0m\u001b[0m\n\u001b[1;32m     10\u001b[0m \u001b[0mprint\u001b[0m\u001b[0;34m(\u001b[0m\u001b[0;34m\"The local minimum occurs at %f\"\u001b[0m\u001b[0;34m,\u001b[0m \u001b[0mcur_x\u001b[0m \u001b[0;34m)\u001b[0m\u001b[0;34m\u001b[0m\u001b[0;34m\u001b[0m\u001b[0m\n",
      "\u001b[0;32m<ipython-input-22-12177d453193>\u001b[0m in \u001b[0;36m<lambda>\u001b[0;34m(x)\u001b[0m\n\u001b[1;32m      3\u001b[0m \u001b[0mprecision\u001b[0m \u001b[0;34m=\u001b[0m \u001b[0;36m0.00001\u001b[0m\u001b[0;34m\u001b[0m\u001b[0;34m\u001b[0m\u001b[0m\n\u001b[1;32m      4\u001b[0m \u001b[0mprevious_step_size\u001b[0m \u001b[0;34m=\u001b[0m \u001b[0mcur_x\u001b[0m\u001b[0;34m\u001b[0m\u001b[0;34m\u001b[0m\u001b[0m\n\u001b[0;32m----> 5\u001b[0;31m \u001b[0mdf\u001b[0m \u001b[0;34m=\u001b[0m \u001b[0;32mlambda\u001b[0m \u001b[0mx\u001b[0m\u001b[0;34m:\u001b[0m \u001b[0;36m4\u001b[0m \u001b[0;34m*\u001b[0m \u001b[0mx\u001b[0m\u001b[0;34m**\u001b[0m\u001b[0;36m3\u001b[0m\u001b[0;34m-\u001b[0m\u001b[0;36m9\u001b[0m \u001b[0;34m*\u001b[0m \u001b[0mx\u001b[0m\u001b[0;34m**\u001b[0m\u001b[0;36m2\u001b[0m\u001b[0;34m\u001b[0m\u001b[0;34m\u001b[0m\u001b[0m\n\u001b[0m\u001b[1;32m      6\u001b[0m \u001b[0;32mwhile\u001b[0m\u001b[0;34m(\u001b[0m\u001b[0mprevious_step_size\u001b[0m \u001b[0;34m>\u001b[0m\u001b[0mprecision\u001b[0m\u001b[0;34m)\u001b[0m\u001b[0;34m:\u001b[0m\u001b[0;34m\u001b[0m\u001b[0;34m\u001b[0m\u001b[0m\n\u001b[1;32m      7\u001b[0m  \u001b[0mprev_x\u001b[0m\u001b[0;34m=\u001b[0m \u001b[0mcur_x\u001b[0m\u001b[0;34m\u001b[0m\u001b[0;34m\u001b[0m\u001b[0m\n",
      "\u001b[0;31mOverflowError\u001b[0m: (34, 'Result too large')"
     ]
    }
   ],
   "source": [
    "cur_x= 6 # The algorithm starts at x=6\n",
    "gamma = 0.01 # step size multiplier\n",
    "precision = 0.00001\n",
    "previous_step_size = cur_x\n",
    "df = lambda x: 4 * x**3-9 * x**2\n",
    "while(previous_step_size >precision):\n",
    " prev_x= cur_x\n",
    " cur_x+= gamma*df(prev_x)\n",
    " previous_step_size= abs(cur_x-prev_x)\n",
    "print(\"The local minimum occurs at %f\", cur_x )"
   ]
  },
  {
   "cell_type": "code",
   "execution_count": 48,
   "metadata": {},
   "outputs": [
    {
     "name": "stdout",
     "output_type": "stream",
     "text": [
      "         LastName     FirstName Mid_Initial          Address  \\\n",
      "0           Baker         Janet           Q         Plano,Tx   \n",
      "1            Kirk        Darren           W   Lewisville, Tx   \n",
      "2         Meadows        Sophie           E     Denton,Texas   \n",
      "3           Patel          Ravi           R  Carrolton,Texas   \n",
      "4          Rogers         Daisy           T   Saddlebrook,Nj   \n",
      "5          Rogers           Tom           Y      Hardford,CT   \n",
      "6           Akers         Brett           U        Frisco,Tx   \n",
      "7          Deakin          John           I          Avon,CT   \n",
      "8          Fisher         Celia         NaN         Plano,Tx   \n",
      "9          Harris           Leo           P   Lewisville, Tx   \n",
      "10          Patel  Shankunthala           A     Denton,Texas   \n",
      "11          Brown         Sally           S  Carrolton,Texas   \n",
      "12         Carter          Jane           D   Saddlebrook,Nj   \n",
      "13        Edwards          Paul           F      Hardford,CT   \n",
      "14         Harris       Rachael           G        Frisco,Tx   \n",
      "15        Lampton        Martin           H          Avon,CT   \n",
      "16          Janet         Baker           J         Plano,Tx   \n",
      "17         Darren          Kirk           K   Lewisville, Tx   \n",
      "18         Sophie       Meadows           L     Denton,Texas   \n",
      "19           Ravi         Patel           X  Carrolton,Texas   \n",
      "20          Daisy        Rogers           C   Saddlebrook,Nj   \n",
      "21            Tom        Rogers           V      Hardford,CT   \n",
      "22          Brett         Akers           B        Frisco,Tx   \n",
      "23           John        Deakin           N          Avon,CT   \n",
      "24          Celia        Fisher           M         Plano,Tx   \n",
      "25            Leo        Harris           Q   Lewisville, Tx   \n",
      "26   Shankunthala         Patel           W     Denton,Texas   \n",
      "27          Sally         Brown           E  Carrolton,Texas   \n",
      "28           Jane        Carter           R   Saddlebrook,Nj   \n",
      "29           Paul       Edwards           T      Hardford,CT   \n",
      "..            ...           ...         ...              ...   \n",
      "71          Ezrah       Renjith           V          Avon,CT   \n",
      "72        Abraham         Tissa           B         Plano,Tx   \n",
      "73        Abraham         Tibin         NaN   Lewisville, Tx   \n",
      "74        Abraham          Susy           M     Denton,Texas   \n",
      "75       Varghese       Abraham           Q  Carrolton,Texas   \n",
      "76         Thampi          Soja           W   Saddlebrook,Nj   \n",
      "77         Thampi       Raseena           E      Hardford,CT   \n",
      "78         Thampi         Silvi           R        Frisco,Tx   \n",
      "79       Varghese        Thampi           T          Avon,CT   \n",
      "80        Abraham         Susan           Y         Plano,Tx   \n",
      "81        Abraham          Jinu           U   Lewisville, Tx   \n",
      "82          Avran       Abraham           I     Denton,Texas   \n",
      "83           Baby         Molly           O  Carrolton,Texas   \n",
      "84           Baby          Sony           P   Saddlebrook,Nj   \n",
      "85           Baby          Sumi           A      Hardford,CT   \n",
      "86         Mathai          Baby         NaN        Frisco,Tx   \n",
      "87         Thomas         Sajan           D          Avon,CT   \n",
      "88         Thomas          Eliz           F   Saddlebrook,Nj   \n",
      "89         Thomas       Suzanne           G      Hardford,CT   \n",
      "90        Abraham       Saramma         NaN        Frisco,Tx   \n",
      "91         Thomas       Abraham           J          Avon,CT   \n",
      "92           Sumi       Abraham           K         Plano,Tx   \n",
      "93           Baby         Avran           L   Lewisville, Tx   \n",
      "94          Sajan          Baby         NaN     Denton,Texas   \n",
      "95           Eliz          Baby           C  Carrolton,Texas   \n",
      "96        Suzanne          Baby           V   Saddlebrook,Nj   \n",
      "97        Saramma        Mathai           B      Hardford,CT   \n",
      "98        Abraham        Thomas           N        Frisco,Tx   \n",
      "99           Jinu        Thomas           M          Avon,CT   \n",
      "100         ABRAM       Qureshi           V        Austim,Tx   \n",
      "\n",
      "                       Major  CreditHours  Scholarship   GPA  \n",
      "0                        UNT            3         True  4.00  \n",
      "1        Information Science            6        False  3.67  \n",
      "2               Data Science            9        False  3.56  \n",
      "3           Computer Science           12        False  3.44  \n",
      "4    Advanced Data Analytics           15        False  3.22  \n",
      "5    Business Administration            3        False  3.14  \n",
      "6          Civil Engineering            6        False  3.90  \n",
      "7     Mechanical Engineering            9         True  3.66  \n",
      "8     Electrical Engineering           12        False  3.77  \n",
      "9                        UNT           15         True  3.87  \n",
      "10   Electronics Engineering            3         True  3.53  \n",
      "11                 Chemistry            6         True  4.00  \n",
      "12            Nanotechnology            9         True  3.67  \n",
      "13             CyberSecurity           12        False  3.56  \n",
      "14                   Physics           15        False  3.44  \n",
      "15                       UNT            3        False  3.22  \n",
      "16       Information Science            6        False  3.14  \n",
      "17              Data Science            9        False  3.90  \n",
      "18          Computer Science           12        False  3.66  \n",
      "19   Advanced Data Analytics           15        False  3.77  \n",
      "20   Business Administration            3         True  3.87  \n",
      "21         Civil Engineering            6         True  3.53  \n",
      "22    Mechanical Engineering            9        False  4.00  \n",
      "23    Electrical Engineering           12        False  3.67  \n",
      "24                       UNT           15        False  3.56  \n",
      "25   Electronics Engineering            9        False  3.44  \n",
      "26                 Chemistry            3        False  3.22  \n",
      "27            Nanotechnology            6        False  3.14  \n",
      "28             CyberSecurity            9         True  3.90  \n",
      "29                   Physics           12        False  3.66  \n",
      "..                       ...          ...          ...   ...  \n",
      "71                 Chemistry            6        False  2.45  \n",
      "72            Nanotechnology            9        False  2.13  \n",
      "73             CyberSecurity           12         True  2.91  \n",
      "74                   Physics           15         True  2.81  \n",
      "75                       UNT           12        False  2.82  \n",
      "76       Information Science           12        False  3.22  \n",
      "77              Data Science           12        False  3.14  \n",
      "78          Computer Science            3        False  3.90  \n",
      "79   Advanced Data Analytics            6        False  3.66  \n",
      "80   Business Administration            9        False  3.77  \n",
      "81         Civil Engineering           12         True  3.87  \n",
      "82    Mechanical Engineering           15        False  3.53  \n",
      "83    Electrical Engineering            9        False  4.00  \n",
      "84                       UNT            9        False  3.67  \n",
      "85   Electronics Engineering            9        False  3.56  \n",
      "86                 Chemistry            9        False  3.44  \n",
      "87            Nanotechnology            3        False  3.22  \n",
      "88             CyberSecurity            6         True  3.14  \n",
      "89                   Physics            9         True  3.90  \n",
      "90                       UNT           12        False  3.66  \n",
      "91       Information Science           15        False  3.77  \n",
      "92              Data Science            6        False  3.87  \n",
      "93          Computer Science            3        False  3.53  \n",
      "94   Advanced Data Analytics            6        False  4.00  \n",
      "95   Business Administration            9        False  3.67  \n",
      "96         Civil Engineering           12         True  4.00  \n",
      "97    Mechanical Engineering           15        False  4.00  \n",
      "98    Electrical Engineering            3        False  4.00  \n",
      "99                       UNT            3        False  4.00  \n",
      "100                      UNT            3         True  4.00  \n",
      "\n",
      "[101 rows x 8 columns]\n",
      "         LastName  FirstName Mid_Initial          Address  \\\n",
      "100         ABRAM    Qureshi           V        Austim,Tx   \n",
      "68        Abraham    Renjith           L   Saddlebrook,Nj   \n",
      "72        Abraham      Tissa           B         Plano,Tx   \n",
      "73        Abraham      Tibin         NaN   Lewisville, Tx   \n",
      "74        Abraham       Susy           M     Denton,Texas   \n",
      "80        Abraham      Susan           Y         Plano,Tx   \n",
      "81        Abraham       Jinu           U   Lewisville, Tx   \n",
      "34        Abraham      Joann           P     Denton,Texas   \n",
      "90        Abraham    Saramma         NaN        Frisco,Tx   \n",
      "98        Abraham     Thomas           N        Frisco,Tx   \n",
      "6           Akers      Brett           U        Frisco,Tx   \n",
      "82          Avran    Abraham           I     Denton,Texas   \n",
      "55         Babith    Markose           Y          Avon,CT   \n",
      "52         Babloo    Markose           E   Saddlebrook,Nj   \n",
      "84           Baby       Sony           P   Saddlebrook,Nj   \n",
      "85           Baby       Sumi           A      Hardford,CT   \n",
      "93           Baby      Avran           L   Lewisville, Tx   \n",
      "83           Baby      Molly           O  Carrolton,Texas   \n",
      "0           Baker      Janet           Q         Plano,Tx   \n",
      "22          Brett      Akers           B        Frisco,Tx   \n",
      "11          Brown      Sally           S  Carrolton,Texas   \n",
      "12         Carter       Jane           D   Saddlebrook,Nj   \n",
      "24          Celia     Fisher           M         Plano,Tx   \n",
      "70           Cera    Renjith           C        Frisco,Tx   \n",
      "20          Daisy     Rogers           C   Saddlebrook,Nj   \n",
      "17         Darren       Kirk           K   Lewisville, Tx   \n",
      "7          Deakin       John           I          Avon,CT   \n",
      "53          Denny      Jacob           R      Hardford,CT   \n",
      "13        Edwards       Paul           F      Hardford,CT   \n",
      "43          Eldho        Eva           L  Carrolton,Texas   \n",
      "..            ...        ...         ...              ...   \n",
      "5          Rogers        Tom           Y      Hardford,CT   \n",
      "4          Rogers      Daisy           T   Saddlebrook,Nj   \n",
      "44         Rooney     Thomas         NaN   Saddlebrook,Nj   \n",
      "62           Ruth      Eldho           D        Frisco,Tx   \n",
      "94          Sajan       Baby         NaN     Denton,Texas   \n",
      "27          Sally      Brown           E  Carrolton,Texas   \n",
      "97        Saramma     Mathai           B      Hardford,CT   \n",
      "45       Shalaque     Thomas           C      Hardford,CT   \n",
      "26   Shankunthala      Patel           W     Denton,Texas   \n",
      "67          Shyju     Thomas           K  Carrolton,Texas   \n",
      "18         Sophie    Meadows           L     Denton,Texas   \n",
      "92           Sumi    Abraham           K         Plano,Tx   \n",
      "96        Suzanne       Baby           V   Saddlebrook,Nj   \n",
      "78         Thampi      Silvi           R        Frisco,Tx   \n",
      "77         Thampi    Raseena           E      Hardford,CT   \n",
      "76         Thampi       Soja           W   Saddlebrook,Nj   \n",
      "91         Thomas    Abraham           J          Avon,CT   \n",
      "89         Thomas    Suzanne           G      Hardford,CT   \n",
      "65         Thomas   Shalaque           H   Lewisville, Tx   \n",
      "87         Thomas      Sajan           D          Avon,CT   \n",
      "46         Thomas      Manju           V        Frisco,Tx   \n",
      "47         Thomas      Shyju           B          Avon,CT   \n",
      "64         Thomas     Rooney           G         Plano,Tx   \n",
      "88         Thomas       Eliz           F   Saddlebrook,Nj   \n",
      "21            Tom     Rogers           V      Hardford,CT   \n",
      "59          Valsa      Jacob           P  Carrolton,Texas   \n",
      "36       Varghese    Markose           S   Saddlebrook,Nj   \n",
      "79       Varghese     Thampi           T          Avon,CT   \n",
      "75       Varghese    Abraham           Q  Carrolton,Texas   \n",
      "58          Yacob     Mathai           O     Denton,Texas   \n",
      "\n",
      "                       Major  CreditHours  Scholarship   GPA  \n",
      "100                      UNT            3         True  4.00  \n",
      "68    Electrical Engineering           15        False  2.67  \n",
      "72            Nanotechnology            9        False  2.13  \n",
      "73             CyberSecurity           12         True  2.91  \n",
      "74                   Physics           15         True  2.81  \n",
      "80   Business Administration            9        False  3.77  \n",
      "81         Civil Engineering           12         True  3.87  \n",
      "34   Advanced Data Analytics           15        False  4.00  \n",
      "90                       UNT           12        False  3.66  \n",
      "98    Electrical Engineering            3        False  4.00  \n",
      "6          Civil Engineering            6        False  3.90  \n",
      "82    Mechanical Engineering           15        False  3.53  \n",
      "55   Electronics Engineering           12        False  2.82  \n",
      "52    Mechanical Engineering            3         True  4.00  \n",
      "84                       UNT            9        False  3.67  \n",
      "85   Electronics Engineering            9        False  3.56  \n",
      "93          Computer Science            3        False  3.53  \n",
      "83    Electrical Engineering            9        False  4.00  \n",
      "0                        UNT            3         True  4.00  \n",
      "22    Mechanical Engineering            9        False  4.00  \n",
      "11                 Chemistry            6         True  4.00  \n",
      "12            Nanotechnology            9         True  3.67  \n",
      "24                       UNT           15        False  3.56  \n",
      "70   Electronics Engineering            3        False  2.89  \n",
      "20   Business Administration            3         True  3.87  \n",
      "17              Data Science            9        False  3.90  \n",
      "7     Mechanical Engineering            9         True  3.66  \n",
      "53    Electrical Engineering            6         True  2.91  \n",
      "13             CyberSecurity           12        False  3.56  \n",
      "43             CyberSecurity           15        False  3.87  \n",
      "..                       ...          ...          ...   ...  \n",
      "5    Business Administration            3        False  3.14  \n",
      "4    Advanced Data Analytics           15        False  3.22  \n",
      "44                   Physics            3         True  3.53  \n",
      "62              Data Science           12         True  3.77  \n",
      "94   Advanced Data Analytics            6        False  4.00  \n",
      "27            Nanotechnology            6        False  3.14  \n",
      "97    Mechanical Engineering           15        False  4.00  \n",
      "45                       UNT            3         True  2.11  \n",
      "26                 Chemistry            3        False  3.22  \n",
      "67    Mechanical Engineering           12        False  2.54  \n",
      "18          Computer Science           12        False  3.66  \n",
      "92              Data Science            6        False  3.87  \n",
      "96         Civil Engineering           12         True  4.00  \n",
      "78          Computer Science            3        False  3.90  \n",
      "77              Data Science           12        False  3.14  \n",
      "76       Information Science           12        False  3.22  \n",
      "91       Information Science           15        False  3.77  \n",
      "89                   Physics            9         True  3.90  \n",
      "65   Business Administration            6         True  2.11  \n",
      "87            Nanotechnology            3        False  3.22  \n",
      "46       Information Science            6        False  2.45  \n",
      "47              Data Science            9        False  2.54  \n",
      "64   Advanced Data Analytics            3         True  3.53  \n",
      "88             CyberSecurity            6         True  3.14  \n",
      "21         Civil Engineering            6         True  3.53  \n",
      "59                   Physics            3        False  3.14  \n",
      "36         Civil Engineering            3         True  3.56  \n",
      "79   Advanced Data Analytics            6        False  3.66  \n",
      "75                       UNT           12        False  2.82  \n",
      "58             CyberSecurity            3        False  3.22  \n",
      "\n",
      "[101 rows x 8 columns]\n"
     ]
    },
    {
     "ename": "FileNotFoundError",
     "evalue": "[Errno 2] No such file or directory: '/Users/jacobdenny/Desktop/Babloo/Masters/Semester3/Python/StudentRecord.csv'",
     "output_type": "error",
     "traceback": [
      "\u001b[0;31m---------------------------------------------------------------------------\u001b[0m",
      "\u001b[0;31mFileNotFoundError\u001b[0m                         Traceback (most recent call last)",
      "\u001b[0;32m<ipython-input-48-5bbca6218ab1>\u001b[0m in \u001b[0;36m<module>\u001b[0;34m\u001b[0m\n\u001b[1;32m     10\u001b[0m \u001b[0mf\u001b[0m\u001b[0;34m.\u001b[0m\u001b[0mclose\u001b[0m\u001b[0;34m(\u001b[0m\u001b[0;34m)\u001b[0m\u001b[0;34m\u001b[0m\u001b[0;34m\u001b[0m\u001b[0m\n\u001b[1;32m     11\u001b[0m \u001b[0;34m\u001b[0m\u001b[0m\n\u001b[0;32m---> 12\u001b[0;31m \u001b[0mf\u001b[0m\u001b[0;34m=\u001b[0m \u001b[0mopen\u001b[0m\u001b[0;34m(\u001b[0m\u001b[0;34m\"/Users/jacobdenny/Desktop/Babloo/Masters/Semester3/Python/StudentRecord.csv\"\u001b[0m\u001b[0;34m,\u001b[0m\u001b[0;34m\"r+\"\u001b[0m\u001b[0;34m)\u001b[0m\u001b[0;34m\u001b[0m\u001b[0;34m\u001b[0m\u001b[0m\n\u001b[0m\u001b[1;32m     13\u001b[0m \u001b[0mStudentInfo1\u001b[0m\u001b[0;34m=\u001b[0m\u001b[0mf\u001b[0m\u001b[0;34m.\u001b[0m\u001b[0mread\u001b[0m\u001b[0;34m(\u001b[0m\u001b[0;34m)\u001b[0m\u001b[0;34m\u001b[0m\u001b[0;34m\u001b[0m\u001b[0m\n\u001b[1;32m     14\u001b[0m \u001b[0mf\u001b[0m\u001b[0;34m.\u001b[0m\u001b[0mclose\u001b[0m\u001b[0;34m(\u001b[0m\u001b[0;34m)\u001b[0m\u001b[0;34m\u001b[0m\u001b[0;34m\u001b[0m\u001b[0m\n",
      "\u001b[0;31mFileNotFoundError\u001b[0m: [Errno 2] No such file or directory: '/Users/jacobdenny/Desktop/Babloo/Masters/Semester3/Python/StudentRecord.csv'"
     ]
    }
   ],
   "source": [
    "\n",
    "import pandas as pd\n",
    "\n",
    "StudentInfo = pd.read_csv('/Users/jacobdenny/Desktop/Babloo/Masters/Semester3/Python/DataInPython/SORTTABLE/StudentRecord.csv')\n",
    "print(StudentInfo)\n",
    "SortedTable=StudentInfo.sort_values('LastName')#Default is ascending, to sort in descending set desc to false\n",
    "print(SortedTable)\n",
    "\n",
    "f= open(\"/Users/jacobdenny/Desktop/Babloo/Masters/Semester3/Python/outputTabulate.csv\",\"w+\")\n",
    "f.write(str(SortedTable))\n",
    "f.close() \n",
    "\n",
    "f= open(\"/Users/jacobdenny/Desktop/Babloo/Masters/Semester3/Python/StudentRecord.csv\",\"r+\")\n",
    "StudentInfo1=f.read()\n",
    "f.close() \n",
    "f= open(\"/Users/jacobdenny/Desktop/Babloo/Masters/Semester3/Python/outputTabulate.csv\",\"w+\")\n",
    "f.write(str(SortedTable))\n",
    "f.close() "
   ]
  },
  {
   "cell_type": "code",
   "execution_count": 3,
   "metadata": {},
   "outputs": [
    {
     "name": "stdout",
     "output_type": "stream",
     "text": [
      "hello 5\n"
     ]
    }
   ],
   "source": [
    "x='hello'\n",
    "y=5\n",
    "print(x,y)"
   ]
  },
  {
   "cell_type": "code",
   "execution_count": null,
   "metadata": {},
   "outputs": [],
   "source": []
  }
 ],
 "metadata": {
  "kernelspec": {
   "display_name": "Python 3",
   "language": "python",
   "name": "python3"
  },
  "language_info": {
   "codemirror_mode": {
    "name": "ipython",
    "version": 3
   },
   "file_extension": ".py",
   "mimetype": "text/x-python",
   "name": "python",
   "nbconvert_exporter": "python",
   "pygments_lexer": "ipython3",
   "version": "3.7.3"
  }
 },
 "nbformat": 4,
 "nbformat_minor": 2
}
