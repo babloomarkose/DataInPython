{
 "cells": [
  {
   "cell_type": "markdown",
   "metadata": {},
   "source": [
    "# Analyze the Income Gap between Female and Male Employees\n",
    "\n",
    "## Introduction\n",
    "\n",
    "This assignment is developed based on the three datasets collected from Kaggle.com at: https://www.kaggle.com/theoviel/kagglers-gender-pay-gap-salary-prediction. You may refer the website for explanation, cleaning, visualization, and basic analysis of the datasets. The three datasets: surveySchema.csv, freeFormResponses.csv, multipleChoiceResponses.csv.\n",
    "\n",
    "## Tasks\n",
    "\n",
    "### Complete the following tasks:\n",
    "\n",
    "1. Calculate the median income of male employees and the median income of female employee in the population. (look the set of all employees in the datasets as the population).(1 point)\n",
    "\n",
    "2. Draw an overlaid graph to show the histograms of the incomes of female and male employees in the population. (You create one histogram for male, and another histogram for female, but the two histograms will be displayed in the same graph with different colors). (1 point)\n",
    "\n",
    "3. Use the random sampling, empirical distribution, sample comparison, bootstrap, hypothesis testing as well as A/B testing we discussed in the class to analyze the income gap between female and male employees.\n",
    "\n",
    " - Select a sample from the population. Make sure your sample include 500 employees selected from the population, and consider how to ensure the sampling strategy is fair since the datasets include overwhelmed male employees than female employees (1 point).\n",
    "\n",
    " - Define test statistic, null hypothesis and alternative hypothesis (1 point).\n",
    "\n",
    " - Draw the income histogram for the sample, calculate the median income of the sample, and draw a red dot and a yellow dot of the female median income and male median income of the population, respectively, in the histogram (1 point).\n",
    "\n",
    " - Draw the histogram of the test statistic of the sample, and draw a red dot to show the corresponding test statistic of the population (e.g. the difference of the median incomes between female and male employees) in the diagram (1 point).\n",
    "\n",
    " - Write a procedure to use bootstrap to produce at least 5000 samples (1 point).\n",
    "\n",
    " - Draw the histogram of the test statistic of the bootstrap samples (1 point).\n",
    "\n",
    " - Define confidence interval and P-value to validate the hypothesis you defined (2 points).\n",
    " \n",
    "\n",
    "4. Submit Python code, the writing for explaining the data cleaning procedure, defining the test statistic, hypothesises, random sampling, bootstrap, confidential intervals, P-vales, as well as interpretation of your results, and all outputs described above.\n"
   ]
  },
  {
   "cell_type": "markdown",
   "metadata": {},
   "source": [
    "## Task 1\n",
    "1. Calculate the median income of male employees and the median income of female employee in the population. (look the set of all employees in the datasets as the population).(1 point)\n",
    " - 1.1 Import necessary packages\n",
    " - 1.2 Load Data\n",
    " - 1.3 Isolate Data for gender and income\n",
    " - 1.4 Find Median"
   ]
  },
  {
   "cell_type": "code",
   "execution_count": null,
   "metadata": {},
   "outputs": [],
   "source": []
  }
 ],
 "metadata": {
  "kernelspec": {
   "display_name": "Python 3",
   "language": "python",
   "name": "python3"
  },
  "language_info": {
   "codemirror_mode": {
    "name": "ipython",
    "version": 3
   },
   "file_extension": ".py",
   "mimetype": "text/x-python",
   "name": "python",
   "nbconvert_exporter": "python",
   "pygments_lexer": "ipython3",
   "version": "3.7.3"
  }
 },
 "nbformat": 4,
 "nbformat_minor": 2
}
