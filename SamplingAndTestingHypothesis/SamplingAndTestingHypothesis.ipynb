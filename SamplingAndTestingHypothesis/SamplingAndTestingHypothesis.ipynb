{
 "cells": [
  {
   "cell_type": "markdown",
   "metadata": {},
   "source": [
    "# Analyze the Income Gap between Female and Male Employees\n",
    "\n",
    "## Introduction\n",
    "\n",
    "This assignment is developed based on the three datasets collected from Kaggle.com at: https://www.kaggle.com/theoviel/kagglers-gender-pay-gap-salary-prediction. You may refer the website for explanation, cleaning, visualization, and basic analysis of the datasets. The three datasets: surveySchema.csv, freeFormResponses.csv, multipleChoiceResponses.csv.\n",
    "\n",
    "## Tasks\n",
    "\n",
    "### Complete the following tasks:\n",
    "\n",
    "1. Calculate the median income of male employees and the median income of female employee in the population. (look the set of all employees in the datasets as the population).(1 point)\n",
    "\n",
    "2. Draw an overlaid graph to show the histograms of the incomes of female and male employees in the population. (You create one histogram for male, and another histogram for female, but the two histograms will be displayed in the same graph with different colors). (1 point)\n",
    "\n",
    "3. Use the random sampling, empirical distribution, sample comparison, bootstrap, hypothesis testing as well as A/B testing we discussed in the class to analyze the income gap between female and male employees.\n",
    "\n",
    " - Select a sample from the population. Make sure your sample include 500 employees selected from the population, and consider how to ensure the sampling strategy is fair since the datasets include overwhelmed male employees than female employees (1 point).\n",
    "\n",
    " - Define test statistic, null hypothesis and alternative hypothesis (1 point).\n",
    "\n",
    " - Draw the income histogram for the sample, calculate the median income of the sample, and draw a red dot and a yellow dot of the female median income and male median income of the population, respectively, in the histogram (1 point).\n",
    "\n",
    " - Draw the histogram of the test statistic of the sample, and draw a red dot to show the corresponding test statistic of the population (e.g. the difference of the median incomes between female and male employees) in the diagram (1 point).\n",
    "\n",
    " - Write a procedure to use bootstrap to produce at least 5000 samples (1 point).\n",
    "\n",
    " - Draw the histogram of the test statistic of the bootstrap samples (1 point).\n",
    "\n",
    " - Define confidence interval and P-value to validate the hypothesis you defined (2 points).\n",
    " \n",
    "\n",
    "4. Submit Python code, the writing for explaining the data cleaning procedure, defining the test statistic, hypothesises, random sampling, bootstrap, confidential intervals, P-vales, as well as interpretation of your results, and all outputs described above.\n"
   ]
  },
  {
   "cell_type": "markdown",
   "metadata": {},
   "source": [
    "## Task 1\n",
    "1. Calculate the median income of male employees and the median income of female employee in the population. (look the set of all employees in the datasets as the population).(1 point)\n",
    " - 1.1 Import necessary packages\n",
    " - 1.2 Load Data\n",
    " - 1.3 Isolate Data for gender and income\n",
    " - 1.4 Find Median"
   ]
  },
  {
   "cell_type": "code",
   "execution_count": 38,
   "metadata": {},
   "outputs": [
    {
     "name": "stdout",
     "output_type": "stream",
     "text": [
      "The raw response Table:1st 5 rows \n"
     ]
    },
    {
     "data": {
      "text/html": [
       "<table border=\"1\" class=\"dataframe\">\n",
       "    <thead>\n",
       "        <tr>\n",
       "            <th>Gender</th> <th>GenderDescription</th> <th>Compensation</th> <th>Above17</th> <th>CurrentRole</th>\n",
       "        </tr>\n",
       "    </thead>\n",
       "    <tbody>\n",
       "        <tr>\n",
       "            <td>What is your gender? - Selected Choice</td> <td>What is your gender? - Prefer to self-describe - Text</td> <td>What is your current yearly compensation (approximate $USD)?</td> <td>What is your age (# years)?</td> <td>Select the title most similar to your current role (or m ...</td>\n",
       "        </tr>\n",
       "        <tr>\n",
       "            <td>Female                                </td> <td>-1                                                   </td> <td>nan                                                         </td> <td>45-49                      </td> <td>Consultant                                                  </td>\n",
       "        </tr>\n",
       "        <tr>\n",
       "            <td>Male                                  </td> <td>-1                                                   </td> <td>10-20,000                                                   </td> <td>30-34                      </td> <td>Other                                                       </td>\n",
       "        </tr>\n",
       "        <tr>\n",
       "            <td>Female                                </td> <td>-1                                                   </td> <td>0-10,000                                                    </td> <td>30-34                      </td> <td>Data Scientist                                              </td>\n",
       "        </tr>\n",
       "        <tr>\n",
       "            <td>Male                                  </td> <td>-1                                                   </td> <td>nan                                                         </td> <td>35-39                      </td> <td>Not employed                                                </td>\n",
       "        </tr>\n",
       "    </tbody>\n",
       "</table>\n",
       "<p>... (23855 rows omitted)</p>"
      ],
      "text/plain": [
       "<IPython.core.display.HTML object>"
      ]
     },
     "metadata": {},
     "output_type": "display_data"
    }
   ],
   "source": [
    "from datascience import Table # Including Table functions from datascience package into the running instance\n",
    "import os# including os package into running instance\n",
    "import numpy as np\n",
    "import matplotlib.pyplot as plt\n",
    "from collections import Counter\n",
    "from datascience.predicates import are# Import 'are' from 'predicates' in 'datascience' module for comparison\n",
    "\n",
    "#---------------------------------------------------------------------------------------------------------------------\n",
    "\n",
    "#LOAD DATA\n",
    "\n",
    "#---------------------------------------------------------------------------------------------------------------------\n",
    "\n",
    "\n",
    "#Loading data from CSV file URL address \n",
    "InputFilepath='https://raw.githubusercontent.com/babloomarkose/DataInPython/master/SamplingAndTestingHypothesis'\n",
    "SurveyResponse=Table().read_table(InputFilepath+'/multipleChoiceResponses.csv')\n",
    "\n",
    "#Relabel columns of interest\n",
    "SurveyResponse.relabel('Q1','Gender')\n",
    "SurveyResponse.relabel('Q1_OTHER_TEXT','GenderDescription')  \n",
    "SurveyResponse.relabel('Q2','Above17')\n",
    "SurveyResponse.relabel('Q6','CurrentRole')\n",
    "SurveyResponse.relabel('Q9','Compensation')\n",
    "\n",
    "#Select data columns of interest\n",
    "SurveyResponse=SurveyResponse.select('Gender','GenderDescription','Compensation','Above17','CurrentRole')\n",
    "#Print the Response Table\n",
    "print(\"The raw response Table:1st 5 rows \")\n",
    "SurveyResponse.show(5) # Show only the first 5 records\n",
    "\n",
    "#Remove first row describing the data in each column\n",
    "SurveyResponse = SurveyResponse.exclude(0)\n",
    "\n"
   ]
  },
  {
   "cell_type": "code",
   "execution_count": null,
   "metadata": {},
   "outputs": [],
   "source": [
    "\n",
    "#---------------------------------------------------------------------------------------------------------------------\n",
    "\n",
    "#EXPLORATORY DATA ANALYSIS\n",
    "\n",
    "#---------------------------------------------------------------------------------------------------------------------\n",
    "\n",
    "print(\"Number of Records : \" ,  SurveyResponse.num_rows)\n",
    "print(\"Number of Variables : \",SurveyResponse.num_columns)\n",
    "print(\"Variables : \",SurveyResponse.labels)\n",
    "\n",
    "#Find Number of Missing Values in each column\n",
    "print(\"\\nCOUNT OF MISSING VALUES IN EACH COLUMN\")\n",
    "\n",
    "print(\"Missing Values in Gender : \",(SurveyResponse['Gender'] == 'nan').sum())\n",
    "print(\"Missing Values in Gender Description : \",(SurveyResponse['GenderDescription'] == 'nan').sum())\n",
    "print(\"Missing Values in Compensation : \",(SurveyResponse['Compensation'] == 'nan').sum())\n",
    "print(\"Missing Values in Above17 : \",(SurveyResponse['Above17'] == 'nan').sum())\n",
    "print(\"Missing Values in CurrentRole : \",(SurveyResponse['CurrentRole'] == 'nan').sum())\n",
    "\n",
    "#Count The number of Unique Values in string variables\n",
    "print(\"\\nCOUNT OF EACH UNIQUE VALUE IN EACH COLUMN\")\n",
    "print('\\nGender:',Counter(SurveyResponse['Gender'] ))\n",
    "print('\\nGender Description: ',Counter(SurveyResponse['GenderDescription'] ))\n",
    "print('\\nCompensation: ',Counter(SurveyResponse['Compensation'] ))\n",
    "print('\\nAbove17:',Counter(SurveyResponse['Above17'] ))\n",
    "print('\\nCurrentRole: ',Counter(SurveyResponse['CurrentRole'] ))\n",
    "\n",
    "pandasDF=SurveyResponse.to_df()\n",
    "#Data Cleaning : Remove rows with missing values for Compensation \n",
    "                 # and where value of compensation is I do not wish to disclose my approximate yearly compensation\n",
    "                 \n",
    "indexNames = pandasDF[ pandasDF['Compensation'] == 'nan' ].index\n",
    "pandasDF.drop(indexNames , inplace=True)\n",
    "indexNames = pandasDF[ pandasDF['Compensation'] == 'I do not wish to disclose my approximate yearly compensation' ].index\n",
    "pandasDF.drop(indexNames , inplace=True)\n",
    "indexNames = pandasDF[ pandasDF['Gender'] == 'Prefer not to say' ].index\n",
    "pandasDF.drop(indexNames , inplace=True)\n",
    "indexNames = pandasDF[ pandasDF['Gender'] == 'Prefer to self-describe' ].index\n",
    "pandasDF.drop(indexNames , inplace=True)\n",
    "indexNames = pandasDF[ pandasDF['CurrentRole'] == 'Student' ].index\n",
    "pandasDF.drop(indexNames , inplace=True)\n",
    "indexNames = pandasDF[ pandasDF['CurrentRole'] == 'Not employed' ].index\n",
    "pandasDF.drop(indexNames , inplace=True)\n",
    "\n",
    "indexNames = pandasDF[ pandasDF['Compensation'] == '500,000+' ].index\n",
    "pandasDF.drop(indexNames , inplace=True)\n",
    "\n",
    "SurveyResponse1=Table.from_df(pandasDF)\n",
    "#Everyone is above 17 so droping the column\n",
    "SurveyResponse1=SurveyResponse1.drop(\"Above17\")\n",
    "SurveyResponse1=SurveyResponse1.drop(\"GenderDescription\")\n",
    "\n",
    "\n",
    "SurveyResponse1=SurveyResponse1.drop(\"CurrentRole\")\n",
    "\n",
    "#Replace the compensation range string to integer, with the mean of the range\n",
    "SurveyResponse1['Compensation'] = SurveyResponse1.apply(lambda x: '500000' if x=='500,000+' else x,'Compensation')\n",
    "SurveyResponse1['Compensation'] = SurveyResponse1.apply(lambda x: x.replace('-', '000-'),'Compensation')\n",
    "SurveyResponse1['Compensation'] = SurveyResponse1.apply(lambda x: x.replace(',', ''),'Compensation')\n",
    "SurveyResponse1['Compensation'] = SurveyResponse1.apply(lambda x: np.mean([int(i) for i in x.split('-')]),'Compensation')\n",
    "\n",
    "#Print the Response Table\n",
    "print(\"The Cleaned response Table:1st 5 rows \")\n",
    "SurveyResponse1.show(5) # Show only the first 5 records\n",
    "\n",
    "Female=SurveyResponse1.where('Gender',\"Female\")\n",
    "Male=SurveyResponse1.where('Gender',\"Male\")\n",
    "\n",
    "#Count The number of Unique Values in string variables\n",
    "print(\"\\nCOUNT OF EACH UNIQUE VALUE IN EACH COLUMN\")\n",
    "print('\\nGender:',Counter(SurveyResponse1['Gender'] ))\n",
    "print('\\nCompensation: ',Counter(SurveyResponse1['Compensation'] ))\n",
    "\n",
    "#---------------------------------------------------------------------------------------------------------------------\n",
    "\n",
    "#Calculate Median\n",
    "\n",
    "#---------------------------------------------------------------------------------------------------------------------\n",
    "PopulationMedianCompensation = np.median(SurveyResponse1.column('Compensation'))\n",
    "MaleMedianCompensation = np.median(Male.column('Compensation'))\n",
    "FemaleMedianCompensation = np.median(Female.column('Compensation'))\n",
    "DifferenceFemaleToMalePopulation=FemaleMedianCompensation-MaleMedianCompensation\n",
    "print(\"The median Compensation of the population is: \",np.median(SurveyResponse1.column('Compensation')))\n",
    "print(\"The median Compensation of the Females in population is: \",np.median(Female.column('Compensation')))\n",
    "print(\"The median Compensation of the Males in population is: \",np.median(Male.column('Compensation')))\n",
    "print(\"The difference between median Compensation of the Females to Males in population is: \",DifferenceFemaleToMalePopulation)\n",
    "\n"
   ]
  },
  {
   "cell_type": "markdown",
   "metadata": {},
   "source": [
    "## Task 2\n",
    "2. Draw an overlaid graph to show the histograms of the incomes of female and male employees in the population. (You create one histogram for male, and another histogram for female, but the two histograms will be displayed in the same graph with different colors). (1 point)\n",
    " - 2.1 Generate Histogram for Males and Females\n",
    " - 2.2 Overlay and display both\n"
   ]
  },
  {
   "cell_type": "code",
   "execution_count": 49,
   "metadata": {
    "scrolled": true
   },
   "outputs": [
    {
     "data": {
      "text/plain": [
       "<matplotlib.collections.PathCollection at 0x1a26185668>"
      ]
     },
     "execution_count": 49,
     "metadata": {},
     "output_type": "execute_result"
    },
    {
     "data": {
      "image/png": "[encoded data removed]",
      "text/plain": [
       "<Figure size 432x288 with 1 Axes>"
      ]
     },
     "metadata": {
      "needs_background": "light"
     },
     "output_type": "display_data"
    }
   ],
   "source": [
    "%matplotlib inline\n",
    "'''compensation_bins1 = np.arange(0, 100001, 10000)\n",
    "compensation_bins2 = np.append(compensation_bins1,np.arange(100001, 150001, 25000))\n",
    "compensation_bins3 = np.append(compensation_bins2,np.arange(150001, 350001, 50000))\n",
    "compensation_bins =  np.append(compensation_bins3,np.arange(300001, 600001, 100000))\n",
    "SurveyResponse1.hist('Compensation', bins = compensation_bins, unit ='Dollars',group=\"Gender\")\n",
    "plt.scatter(FemaleMedianCompensation, 0, color='red', s=30)\n",
    "plt.scatter(MaleMedianCompensation, 0, color='green', s=30)'''\n",
    "SurveyResponse1.hist('Compensation', unit ='Dollars',group=\"Gender\")\n",
    "plt.title('Compensation for Population');\n",
    "plt.scatter(FemaleMedianCompensation, 0, color='red', s=30)\n",
    "plt.scatter(MaleMedianCompensation, 0, color='green', s=30)"
   ]
  },
  {
   "cell_type": "markdown",
   "metadata": {},
   "source": [
    "## Task 3\n",
    "Use the random sampling, empirical distribution, sample comparison, bootstrap, hypothesis testing as well as A/B testing we discussed in the class to analyze the income gap between female and male employees.\n",
    "\n",
    " - Select a sample from the population. Make sure your sample include 500 employees selected from the population, and consider how to ensure the sampling strategy is fair since the datasets include overwhelmed male employees than female employees (1 point).\n",
    "\n",
    " - Define test statistic, null hypothesis and alternative hypothesis (1 point).\n",
    "\n",
    " - Draw the income histogram for the sample, calculate the median income of the sample, and draw a red dot and a yellow dot of the female median income and male median income of the population, respectively, in the histogram (1 point).\n",
    "\n",
    " - Draw the histogram of the test statistic of the sample, and draw a red dot to show the corresponding test statistic of the population (e.g. the difference of the median incomes between female and male employees) in the diagram (1 point).\n",
    "\n",
    " - Write a procedure to use bootstrap to produce at least 5000 samples (1 point).\n",
    "\n",
    " - Draw the histogram of the test statistic of the bootstrap samples (1 point).\n",
    "\n",
    " - Define confidence interval and P-value to validate the hypothesis you defined (2 points)."
   ]
  },
  {
   "cell_type": "code",
   "execution_count": 50,
   "metadata": {},
   "outputs": [
    {
     "name": "stdout",
     "output_type": "stream",
     "text": [
      "The median Compensation of the Sample is:  45000.0\n",
      "The median Compensation of the Females in Sample is:  35000.0\n",
      "The median Compensation of the Males in Sample is:  45000.0\n",
      "The Difference in median Compensation of the Females to males in Sample is:  -10000.0\n"
     ]
    }
   ],
   "source": [
    "#Select a sample from the population. \n",
    "#Make sure your sample include 500 employees selected from the population, \n",
    "#and consider how to ensure the sampling strategy is fair since the datasets\n",
    "#include overwhelmed male employees than female employees (1 point).\n",
    "\n",
    "# To ensure fairness, need to maintain  the male to female ratio of the population in the sample\n",
    "\n",
    "\n",
    "\n",
    "def MakeSample(SurveyResponse1,n):\n",
    "    samplesize=n\n",
    "    #Access the original population counts\n",
    "    GenderCounter=Counter(SurveyResponse1['Gender'] ) \n",
    "    #Male to female ratio in the population\n",
    "    ratioMaleToFemale=round(GenderCounter['Male']/GenderCounter['Female'])\n",
    "    #The sample of 500 needs to maintain the ratio of male to female from the population\n",
    "    numberofFemales = round(samplesize/(ratioMaleToFemale+1))\n",
    "    numberofMales = samplesize-numberofFemales\n",
    "    #Random sample of males\n",
    "    malePopulation=SurveyResponse1.where(\"Gender\", \"Male\")\n",
    "    #Random sample of females\n",
    "    FemalePopulation=SurveyResponse1.where(\"Gender\", \"Female\")\n",
    "    #Random sample with same male to female proportion as population\n",
    "    Sample=malePopulation.sample(k=numberofMales).append(FemalePopulation.sample(k=numberofFemales))\n",
    "    return(Sample)\n",
    "    \n",
    "Sample500=MakeSample(SurveyResponse1,500)\n",
    "SampleMedianCompensation = np.median(Sample500.column('Compensation'))\n",
    "FemaleSample=Sample500.where('Gender',\"Female\")\n",
    "MaleSample=Sample500.where('Gender',\"Male\")\n",
    "SampleFemaleMedianCompensation = np.median(FemaleSample.column('Compensation'))\n",
    "SampleMaleMedianCompensation = np.median(MaleSample.column('Compensation'))\n",
    "print(\"The median Compensation of the Sample is: \",SampleMedianCompensation)\n",
    "print(\"The median Compensation of the Females in Sample is: \",SampleFemaleMedianCompensation)\n",
    "print(\"The median Compensation of the Males in Sample is: \",SampleMaleMedianCompensation)\n",
    "print(\"The Difference in median Compensation of the Females to males in Sample is: \",SampleFemaleMedianCompensation-SampleMaleMedianCompensation)\n",
    "\n",
    "\n"
   ]
  },
  {
   "cell_type": "markdown",
   "metadata": {},
   "source": [
    "### Define test statistic, null hypothesis and alternative hypothesis (1 point).\n",
    "\n",
    " - Null Hypothesis:Median Income of Male and female are same\n",
    " - Alternative Hypothesis:Median Income of Male and Female differ considerably\n",
    " - Test Statistics: We are going to simulate the median compensation of a random sample of size 500 drawn from the population of survey responses.\n",
    "  -  We will do absolute value of Female Median Compensation -Male Median compensation, "
   ]
  },
  {
   "cell_type": "code",
   "execution_count": null,
   "metadata": {},
   "outputs": [],
   "source": []
  },
  {
   "cell_type": "markdown",
   "metadata": {},
   "source": [
    "### Histogram for sample\n",
    " - Draw the income histogram for the sample\n",
    " - Calculate the median income of the sample\n",
    " - Draw a red dot and a yellow dot of the female median income and male median income of the population,  respectively, in the histogram (1 point)."
   ]
  },
  {
   "cell_type": "code",
   "execution_count": 51,
   "metadata": {},
   "outputs": [
    {
     "name": "stdout",
     "output_type": "stream",
     "text": [
      "The median Compensation of the Females in Sample is:  35000.0\n",
      "The median Compensation of the Males in Sample is:  45000.0\n"
     ]
    },
    {
     "data": {
      "text/plain": [
       "\"plt.scatter(SampleFemaleMedianCompensation, 0, color='green', s=35)\\nplt.scatter(SampleMaleMedianCompensation, 0, color='blue', s=35)\""
      ]
     },
     "execution_count": 51,
     "metadata": {},
     "output_type": "execute_result"
    },
    {
     "data": {
      "image/png": "[encoded data removed]",
      "text/plain": [
       "<Figure size 432x288 with 1 Axes>"
      ]
     },
     "metadata": {
      "needs_background": "light"
     },
     "output_type": "display_data"
    }
   ],
   "source": [
    "Sample500 = MakeSample(SurveyResponse1,500)\n",
    "Sample500.hist('Compensation', unit ='Dollars',group='Gender')\n",
    "plt.title('Compensation for selected sample');\n",
    "FemaleSample=Sample500.where('Gender',\"Female\")\n",
    "MaleSample=Sample500.where('Gender',\"Male\")\n",
    "SampleFemaleMedianCompensation = np.median(FemaleSample.column('Compensation'))\n",
    "SampleMaleMedianCompensation = np.median(MaleSample.column('Compensation'))\n",
    "\n",
    "print(\"The median Compensation of the Females in Sample is: \",SampleFemaleMedianCompensation)\n",
    "print(\"The median Compensation of the Males in Sample is: \",SampleMaleMedianCompensation)\n",
    "\n",
    "plt.scatter(FemaleMedianCompensation, 0, color='red', s=30)\n",
    "plt.scatter(MaleMedianCompensation, 0, color='yellow', s=30)\n",
    "'''plt.scatter(SampleFemaleMedianCompensation, 0, color='green', s=35)\n",
    "plt.scatter(SampleMaleMedianCompensation, 0, color='blue', s=35)'''"
   ]
  },
  {
   "cell_type": "markdown",
   "metadata": {},
   "source": [
    "### Histogram of the Test statistic of the sample\n",
    " - Draw the histogram of the test statistic of the sample, and \n",
    " - Draw a red dot to show the corresponding test statistic of the population (e.g. the difference of the median incomes between female and male employees) in the diagram (1 point)."
   ]
  },
  {
   "cell_type": "code",
   "execution_count": null,
   "metadata": {},
   "outputs": [],
   "source": [
    "%matplotlib inline\n",
    "#A method to compute difference in median compensation for male and female\n",
    "def difference_of_medians(table, label, group_label):\n",
    "    reduced = table.select(label, group_label)\n",
    "    medians_table = reduced.group(group_label, np.median)\n",
    "    medians = medians_table.column(1)\n",
    "    return abs(medians.item(1) - medians.item(0))\n",
    "difference_of_medians(SurveyResponse1, 'Compensation', 'Gender')\n",
    "\n",
    "#Predicting the Statistic Under the Null Hypothesis(no difference in compensation)\n",
    "# no differrnce implies male or female doesnot make a difference in compensation and hence shuffling gender\n",
    "\n",
    "\n",
    "#A method to compute difference in median compensation after shuffling gender\n",
    "\n",
    "def one_simulated_difference(table, label, group_label):\n",
    "    shuffled_labels = table.sample(with_replacement = False).column(group_label)\n",
    "    shuffled_table = table.select(label).with_column('Shuffled Label', shuffled_labels)\n",
    "    return difference_of_medians(shuffled_table, label, 'Shuffled Label') \n",
    "\n",
    "'''one_simulated_difference(SurveyResponse1, 'Compensation', 'Gender')\n",
    "'''\n",
    "\n",
    "#An Array to hold the median compensation difference for n samples\n",
    "differences = np.array([])\n",
    "#Number of simulations\n",
    "repetitions = 5000\n",
    "# Simulate n time for understanding the variability\n",
    "for i in np.arange(repetitions):\n",
    "    new_difference = one_simulated_difference(SurveyResponse1, 'Compensation', 'Gender')\n",
    "    differences = np.append(differences, new_difference) \n",
    "    \n",
    "# Plot a histogram to understand the spread of difference in median and mark population observed difference    \n",
    "Table().with_column('Difference Between Group Medians', differences).hist()\n",
    "print('Observed Difference:', abs(DifferenceFemaleToMalePopulation))\n",
    "plt.title('Prediction Under the Null Hypothesis');"
   ]
  },
  {
   "cell_type": "markdown",
   "metadata": {},
   "source": [
    "The histogram above shows the distribution of these 5,000 values. It is the empirical distribution of the test statistic simulated under the null hypothesis. This is a prediction about the test statistic, based on the null hypothesis.\n",
    "\n",
    "Notice how the distribution is centered around 0. This makes sense, because under the null hypothesis the two groups should have roughly the same average. Therefore the difference between the group averages should be around 0.\n",
    "\n",
    "The observed difference in the original sample is about  1000, which doesn't even appear on the horizontal scale of the histogram. The observed value of the statistic and the predicted behavior of the statistic under the null hypothesis are inconsistent.\n",
    "\n",
    "The conclusion of the test is that the data favor the alternative over the null. The average birth weight of babies born to mothers who smoke is less than the average birth weight of babies born to non-smokers.\n",
    "\n",
    "If you want to compute an empirical P-value, remember that low values of the statistic favor the alternative hypothesis.\n",
    "#### Bootstrap\n",
    " - Write a procedure to use bootstrap to produce at least 5000 samples (1 point).\n",
    "  -  Take a sample\n",
    "  -  Use the sample to resample\n",
    "  -  Repeat resampling"
   ]
  },
  {
   "cell_type": "code",
   "execution_count": 151,
   "metadata": {},
   "outputs": [
    {
     "ename": "ValueError",
     "evalue": "Percentiles must be in the range [0, 100]",
     "output_type": "error",
     "traceback": [
      "\u001b[0;31m---------------------------------------------------------------------------\u001b[0m",
      "\u001b[0;31mValueError\u001b[0m                                Traceback (most recent call last)",
      "\u001b[0;32m<ipython-input-151-1ff6ba0d0cce>\u001b[0m in \u001b[0;36m<module>\u001b[0;34m\u001b[0m\n\u001b[1;32m     15\u001b[0m \u001b[0;34m\u001b[0m\u001b[0m\n\u001b[1;32m     16\u001b[0m \u001b[0msample\u001b[0m\u001b[0;34m=\u001b[0m \u001b[0mMakeSample\u001b[0m\u001b[0;34m(\u001b[0m\u001b[0mSurveyResponse1\u001b[0m\u001b[0;34m,\u001b[0m\u001b[0;36m500\u001b[0m\u001b[0;34m)\u001b[0m\u001b[0;34m\u001b[0m\u001b[0;34m\u001b[0m\u001b[0m\n\u001b[0;32m---> 17\u001b[0;31m \u001b[0;34m(\u001b[0m\u001b[0mbootstrap_median\u001b[0m\u001b[0;34m(\u001b[0m\u001b[0msample\u001b[0m\u001b[0;34m,\u001b[0m \u001b[0;34m'Compensation'\u001b[0m\u001b[0;34m,\u001b[0m \u001b[0;36m10\u001b[0m\u001b[0;34m)\u001b[0m\u001b[0;34m)\u001b[0m\u001b[0;34m.\u001b[0m\u001b[0mhist\u001b[0m\u001b[0;34m(\u001b[0m\u001b[0;34m)\u001b[0m\u001b[0;34m\u001b[0m\u001b[0;34m\u001b[0m\u001b[0m\n\u001b[0m\u001b[1;32m     18\u001b[0m \u001b[0;34m\u001b[0m\u001b[0m\n",
      "\u001b[0;32m<ipython-input-151-1ff6ba0d0cce>\u001b[0m in \u001b[0;36mbootstrap_median\u001b[0;34m(sample, Compensation, replications)\u001b[0m\n\u001b[1;32m      9\u001b[0m     \u001b[0;32mfor\u001b[0m \u001b[0mi\u001b[0m \u001b[0;32min\u001b[0m \u001b[0mnp\u001b[0m\u001b[0;34m.\u001b[0m\u001b[0marange\u001b[0m\u001b[0;34m(\u001b[0m\u001b[0mreplications\u001b[0m\u001b[0;34m)\u001b[0m\u001b[0;34m:\u001b[0m\u001b[0;34m\u001b[0m\u001b[0;34m\u001b[0m\u001b[0m\n\u001b[1;32m     10\u001b[0m         \u001b[0mbootstrap_sample\u001b[0m \u001b[0;34m=\u001b[0m \u001b[0mcolumn_one\u001b[0m\u001b[0;34m.\u001b[0m\u001b[0msample\u001b[0m\u001b[0;34m(\u001b[0m\u001b[0;34m)\u001b[0m\u001b[0;34m\u001b[0m\u001b[0;34m\u001b[0m\u001b[0m\n\u001b[0;32m---> 11\u001b[0;31m         \u001b[0mresampled_median\u001b[0m \u001b[0;34m=\u001b[0m \u001b[0mnp\u001b[0m\u001b[0;34m.\u001b[0m\u001b[0mpercentile\u001b[0m\u001b[0;34m(\u001b[0m\u001b[0;36m5\u001b[0m\u001b[0;34m,\u001b[0m \u001b[0mbootstrap_sample\u001b[0m\u001b[0;34m.\u001b[0m\u001b[0mcolumn\u001b[0m\u001b[0;34m(\u001b[0m\u001b[0;36m0\u001b[0m\u001b[0;34m)\u001b[0m\u001b[0;34m)\u001b[0m\u001b[0;34m\u001b[0m\u001b[0;34m\u001b[0m\u001b[0m\n\u001b[0m\u001b[1;32m     12\u001b[0m         \u001b[0mmedians\u001b[0m \u001b[0;34m=\u001b[0m \u001b[0mnp\u001b[0m\u001b[0;34m.\u001b[0m\u001b[0mappend\u001b[0m\u001b[0;34m(\u001b[0m\u001b[0mmedians\u001b[0m\u001b[0;34m,\u001b[0m \u001b[0mresampled_median\u001b[0m\u001b[0;34m)\u001b[0m\u001b[0;34m\u001b[0m\u001b[0;34m\u001b[0m\u001b[0m\n\u001b[1;32m     13\u001b[0m \u001b[0;34m\u001b[0m\u001b[0m\n",
      "\u001b[0;32m~/anaconda3/lib/python3.7/site-packages/numpy/lib/function_base.py\u001b[0m in \u001b[0;36mpercentile\u001b[0;34m(a, q, axis, out, overwrite_input, interpolation, keepdims)\u001b[0m\n\u001b[1;32m   3703\u001b[0m     \u001b[0mq\u001b[0m \u001b[0;34m=\u001b[0m \u001b[0mnp\u001b[0m\u001b[0;34m.\u001b[0m\u001b[0mtrue_divide\u001b[0m\u001b[0;34m(\u001b[0m\u001b[0mq\u001b[0m\u001b[0;34m,\u001b[0m \u001b[0;36m100.0\u001b[0m\u001b[0;34m)\u001b[0m  \u001b[0;31m# handles the asarray for us too\u001b[0m\u001b[0;34m\u001b[0m\u001b[0;34m\u001b[0m\u001b[0m\n\u001b[1;32m   3704\u001b[0m     \u001b[0;32mif\u001b[0m \u001b[0;32mnot\u001b[0m \u001b[0m_quantile_is_valid\u001b[0m\u001b[0;34m(\u001b[0m\u001b[0mq\u001b[0m\u001b[0;34m)\u001b[0m\u001b[0;34m:\u001b[0m\u001b[0;34m\u001b[0m\u001b[0;34m\u001b[0m\u001b[0m\n\u001b[0;32m-> 3705\u001b[0;31m         \u001b[0;32mraise\u001b[0m \u001b[0mValueError\u001b[0m\u001b[0;34m(\u001b[0m\u001b[0;34m\"Percentiles must be in the range [0, 100]\"\u001b[0m\u001b[0;34m)\u001b[0m\u001b[0;34m\u001b[0m\u001b[0;34m\u001b[0m\u001b[0m\n\u001b[0m\u001b[1;32m   3706\u001b[0m     return _quantile_unchecked(\n\u001b[1;32m   3707\u001b[0m         a, q, axis, out, overwrite_input, interpolation, keepdims)\n",
      "\u001b[0;31mValueError\u001b[0m: Percentiles must be in the range [0, 100]"
     ]
    }
   ],
   "source": [
    "\n",
    "\n",
    "def bootstrap_median(sample, Compensation, replications):\n",
    "    \"\"\"Returns an array of bootstrapped sample medians:\n",
    "    original_sample: table containing the original sample\n",
    "    label: label of column containing the variable\n",
    "    replications: number of bootstrap samples\n",
    "    \"\"\"\n",
    "    column_one = sample.select(Compensation)\n",
    "    medians = np.array([])\n",
    "    for i in np.arange(replications):\n",
    "        bootstrap_sample = column_one.sample()\n",
    "        resampled_median = np.percentile(5, bootstrap_sample.column(0))\n",
    "        medians = np.append(medians, resampled_median)\n",
    "        \n",
    "    return medians\n",
    "\n",
    "sample= MakeSample(SurveyResponse1,500)\n",
    "(bootstrap_median(sample, 'Compensation', 10)).hist()\n",
    "                     "
   ]
  },
  {
   "cell_type": "markdown",
   "metadata": {},
   "source": [
    "  -  Draw the histogram of the test statistic of the bootstrap samples (1 point).\n",
    "\n",
    "  -  Define confidence interval and P-value to validate the hypothesis you defined (2 points).\n",
    "## Task 4\n",
    "Submit Python code, the writing for explaining the data cleaning procedure, defining the test statistic, hypothesises, random sampling, bootstrap, confidential intervals, P-vales, as well as interpretation of your results, and all outputs described above."
   ]
  },
  {
   "cell_type": "code",
   "execution_count": null,
   "metadata": {},
   "outputs": [],
   "source": [
    "'''print(SurveyResponse1.group('Gender'))\n",
    "SurveyResponse1.hist('Compensation', group = 'Gender')\n",
    "median_table = SurveyResponse1.group('Gender', np.median)\n",
    "print(median_table)\n",
    "medians = median_table.column(1)\n",
    "observed_difference = medians.item(0) - medians.item(1)\n",
    "print(observed_difference)\n",
    "def difference_of_medians(table, label, group_label):\n",
    "    reduced = table.select(label, group_label)\n",
    "    medians_table = reduced.group(group_label, np.median)\n",
    "    medians = medians_table.column(1)\n",
    "    return medians.item(0) - medians.item(1)\n",
    "observed_difference2 = difference_of_medians(SurveyResponse1, 'Compensation', 'Gender')\n",
    "print(observed_difference2)\n",
    "\n",
    "shuffled_labels = SurveyResponse1.sample(with_replacement = False).column(0)\n",
    "original_and_shuffled = SurveyResponse1.with_column('Shuffled Label', shuffled_labels)\n",
    "print(original_and_shuffled)\n",
    "shuffled_only = original_and_shuffled.drop('Gender')\n",
    "shuffled_group_medians = shuffled_only.group('Shuffled Label', np.median)\n",
    "print(shuffled_group_medians)\n",
    "observed_difference3 = difference_of_medians(original_and_shuffled, 'Compensation', 'Shuffled Label')\n",
    "print(observed_difference3)'''\n",
    "'''medians=list()\n",
    "for i in np.arange(10):\n",
    "    medians=MakeSample(SurveyResponse1,500)\n",
    "    mediansSAMPLE = np.append(mediansPOPULATION,medians[0])\n",
    "    mediansFEMALE = np.append(mediansPOPULATION,medians[1])\n",
    "    mediansMALE = np.append(mediansPOPULATION,medians[2])\n",
    "'''\n",
    "'''from datascience import util #Utilities package \n",
    "#A method to compute difference in median compensation for male and female\n",
    "def ComputeSampleMedianDifference(SurveyResponse1,n):\n",
    "    samplesize=n\n",
    "    #Access the original population counts\n",
    "    GenderCounter=Counter(SurveyResponse1['Gender'] ) \n",
    "    #Male to female ratio in the population\n",
    "    ratioMaleToFemale=round(GenderCounter['Male']/GenderCounter['Female'])\n",
    "    #The sample of 500 needs to maintain the ratio of male to female from the population\n",
    "    numberofFemales = round(samplesize/(ratioMaleToFemale+1))\n",
    "    numberofMales = samplesize-numberofFemales\n",
    "    #Random sample of males\n",
    "    malePopulation=SurveyResponse1.where(\"Gender\", \"Male\")\n",
    "    #Random sample of females\n",
    "    FemalePopulation=SurveyResponse1.where(\"Gender\", \"Female\")\n",
    "    #Random sample with same male to female proportion as population\n",
    "    Sample=malePopulation.sample(k=numberofMales).append(FemalePopulation.sample(k=numberofFemales))\n",
    "    FemaleSample=Sample.where('Gender',\"Female\")\n",
    "    MaleSample=Sample.where('Gender',\"Male\")\n",
    "    SampleFemaleMedianCompensation = np.median(FemaleSample.column('Compensation'))\n",
    "    SampleMaleMedianCompensation = np.median(MaleSample.column('Compensation'))\n",
    "    SampleMedianDifference=SampleFemaleMedianCompensation-SampleMaleMedianCompensation\n",
    "    return(SampleMedianDifference)\n",
    "\n",
    "#An Array to hold the median compensation difference for n samples\n",
    "SampleMedianDifferenceArray=np.array([])\n",
    "\n",
    "#Compute difference in median compensation for 5000 samples\n",
    "for i in range(5000):\n",
    "    SampleMedianDifferenceArray= np.append(SampleMedianDifferenceArray,ComputeSampleMedianDifference(SurveyResponse1,500))\n",
    "\n",
    "#Plot the difference in median compensation for 5000 samples\n",
    "Table().with_column('Difference Between Group Medians', SampleMedianDifferenceArray).hist()\n",
    "print('Observed Difference:', DifferenceFemaleToMalePopulation)\n",
    "\n",
    "#Plot the difference in median compensation for population on the above scatter \n",
    "plt.scatter(DifferenceFemaleToMalePopulation, 0, color='red', s=30)\n",
    "plt.title('Prediction Under the Null Hypothesis for 5000 Samples')\n",
    "'''"
   ]
  }
 ],
 "metadata": {
  "kernelspec": {
   "display_name": "Python 3",
   "language": "python",
   "name": "python3"
  },
  "language_info": {
   "codemirror_mode": {
    "name": "ipython",
    "version": 3
   },
   "file_extension": ".py",
   "mimetype": "text/x-python",
   "name": "python",
   "nbconvert_exporter": "python",
   "pygments_lexer": "ipython3",
   "version": "3.7.3"
  }
 },
 "nbformat": 4,
 "nbformat_minor": 2
}
