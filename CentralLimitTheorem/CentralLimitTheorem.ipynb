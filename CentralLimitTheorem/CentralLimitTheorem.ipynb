{
 "cells": [
  {
   "cell_type": "markdown",
   "metadata": {},
   "source": [
    "# Assignment 6: Central Limit Theorem"
   ]
  },
  {
   "cell_type": "code",
   "execution_count": 78,
   "metadata": {},
   "outputs": [],
   "source": [
    "\n",
    "import numpy as np\n",
    "from datascience import *\n",
    "\n",
    "# These lines do some fancy plotting magic.\n",
    "import matplotlib\n",
    "%matplotlib inline\n",
    "import matplotlib.pyplot as plt"
   ]
  },
  {
   "cell_type": "markdown",
   "metadata": {},
   "source": [
    "## 1. The Bootstrap and The Normal Curve\n"
   ]
  },
  {
   "cell_type": "markdown",
   "metadata": {},
   "source": [
    "In this exercise, we will explore a dataset that includes the safety inspection scores for restaurants in the city of Austin, Texas.  We will be interested in determining the average restaurant score for the city from a random sample of the scores; the average restaurant score is out of 100. We'll compare two methods for computing a confidence interval for that quantity: the bootstrap resampling method, and an approximation based on the Central Limit Theorem."
   ]
  },
  {
   "cell_type": "code",
   "execution_count": 79,
   "metadata": {},
   "outputs": [
    {
     "data": {
      "text/html": [
       "<table border=\"1\" class=\"dataframe\">\n",
       "    <thead>\n",
       "        <tr>\n",
       "            <th>Restaurant Name</th> <th>Zip Code</th> <th>Inspection Date</th> <th>Score</th> <th>Address</th>\n",
       "        </tr>\n",
       "    </thead>\n",
       "    <tbody>\n",
       "        <tr>\n",
       "            <td>6M Grocery     </td> <td>78652   </td> <td>01/17/2014     </td> <td>90   </td> <td>805 W FM 1626 RD\n",
       "AUSTIN, TX 78652\n",
       "     </td>\n",
       "        </tr>\n",
       "        <tr>\n",
       "            <td>6M Grocery     </td> <td>78652   </td> <td>04/27/2015     </td> <td>93   </td> <td>805 W FM 1626 RD\n",
       "AUSTIN, TX 78652\n",
       "     </td>\n",
       "        </tr>\n",
       "        <tr>\n",
       "            <td>6M Grocery     </td> <td>78652   </td> <td>05/02/2016     </td> <td>88   </td> <td>805 W FM 1626 RD\n",
       "AUSTIN, TX 78652\n",
       "     </td>\n",
       "        </tr>\n",
       "        <tr>\n",
       "            <td>6M Grocery     </td> <td>78652   </td> <td>07/25/2014     </td> <td>100  </td> <td>805 W FM 1626 RD\n",
       "AUSTIN, TX 78652\n",
       "     </td>\n",
       "        </tr>\n",
       "        <tr>\n",
       "            <td>6M Grocery     </td> <td>78652   </td> <td>10/21/2015     </td> <td>87   </td> <td>805 W FM 1626 RD\n",
       "AUSTIN, TX 78652\n",
       "     </td>\n",
       "        </tr>\n",
       "        <tr>\n",
       "            <td>6M Grocery     </td> <td>78652   </td> <td>12/15/2014     </td> <td>93   </td> <td>805 W FM 1626 RD\n",
       "AUSTIN, TX 78652\n",
       "     </td>\n",
       "        </tr>\n",
       "        <tr>\n",
       "            <td>7 Eleven #36575</td> <td>78660   </td> <td>01/25/2016     </td> <td>92   </td> <td>15829 N IH 35 SVRD NB\n",
       "AUSTIN, TX 78660\n",
       "</td>\n",
       "        </tr>\n",
       "        <tr>\n",
       "            <td>7 Eleven #36575</td> <td>78660   </td> <td>03/05/2015     </td> <td>86   </td> <td>15829 N IH 35 SVRD NB\n",
       "AUSTIN, TX 78660\n",
       "</td>\n",
       "        </tr>\n",
       "        <tr>\n",
       "            <td>7 Eleven #36575</td> <td>78660   </td> <td>03/14/2014     </td> <td>93   </td> <td>15829 N IH 35 SVRD NB\n",
       "AUSTIN, TX 78660\n",
       "</td>\n",
       "        </tr>\n",
       "        <tr>\n",
       "            <td>7 Eleven #36575</td> <td>78660   </td> <td>07/27/2015     </td> <td>97   </td> <td>15829 N IH 35 SVRD NB\n",
       "AUSTIN, TX 78660\n",
       "</td>\n",
       "        </tr>\n",
       "    </tbody>\n",
       "</table>\n",
       "<p>... (24357 rows omitted)</p>"
      ],
      "text/plain": [
       "Restaurant Name | Zip Code | Inspection Date | Score | Address\n",
       "6M Grocery      | 78652    | 01/17/2014      | 90    | 805 W FM 1626 RD\n",
       "AUSTIN, TX 78652\n",
       "6M Grocery      | 78652    | 04/27/2015      | 93    | 805 W FM 1626 RD\n",
       "AUSTIN, TX 78652\n",
       "6M Grocery      | 78652    | 05/02/2016      | 88    | 805 W FM 1626 RD\n",
       "AUSTIN, TX 78652\n",
       "6M Grocery      | 78652    | 07/25/2014      | 100   | 805 W FM 1626 RD\n",
       "AUSTIN, TX 78652\n",
       "6M Grocery      | 78652    | 10/21/2015      | 87    | 805 W FM 1626 RD\n",
       "AUSTIN, TX 78652\n",
       "6M Grocery      | 78652    | 12/15/2014      | 93    | 805 W FM 1626 RD\n",
       "AUSTIN, TX 78652\n",
       "7 Eleven #36575 | 78660    | 01/25/2016      | 92    | 15829 N IH 35 SVRD NB\n",
       "AUSTIN, TX 78660\n",
       "7 Eleven #36575 | 78660    | 03/05/2015      | 86    | 15829 N IH 35 SVRD NB\n",
       "AUSTIN, TX 78660\n",
       "7 Eleven #36575 | 78660    | 03/14/2014      | 93    | 15829 N IH 35 SVRD NB\n",
       "AUSTIN, TX 78660\n",
       "7 Eleven #36575 | 78660    | 07/27/2015      | 97    | 15829 N IH 35 SVRD NB\n",
       "AUSTIN, TX 78660\n",
       "... (24357 rows omitted)"
      ]
     },
     "execution_count": 79,
     "metadata": {},
     "output_type": "execute_result"
    }
   ],
   "source": [
    "# Just run this cell.\n",
    "#Load data into a pandas dataframe\n",
    "dirpath = \"https://raw.githubusercontent.com/data-8/materials-su19/master/materials/su19/hw/hw10/\"\n",
    "pop_restaurants = Table.read_table(dirpath+'restaurant_inspection_scores.csv').drop('Facility ID','Process Description')\n",
    "pop_restaurants"
   ]
  },
  {
   "cell_type": "markdown",
   "metadata": {},
   "source": [
    "Run the cell below to plot a histogram of the scores from `pop_restaurants`."
   ]
  },
  {
   "cell_type": "code",
   "execution_count": 80,
   "metadata": {
    "deletable": false
   },
   "outputs": [
    {
     "data": {
      "image/png": "[encoded data removed]",
      "text/plain": [
       "<Figure size 432x288 with 1 Axes>"
      ]
     },
     "metadata": {
      "needs_background": "light"
     },
     "output_type": "display_data"
    }
   ],
   "source": [
    "pop_restaurants.hist('Score')"
   ]
  },
  {
   "cell_type": "markdown",
   "metadata": {},
   "source": [
    "This is the **population mean**:"
   ]
  },
  {
   "cell_type": "code",
   "execution_count": 81,
   "metadata": {},
   "outputs": [
    {
     "data": {
      "text/plain": [
       "91.40706693478886"
      ]
     },
     "execution_count": 81,
     "metadata": {},
     "output_type": "execute_result"
    }
   ],
   "source": [
    "pop_mean = np.mean(pop_restaurants.column('Score'))\n",
    "pop_mean"
   ]
  },
  {
   "cell_type": "markdown",
   "metadata": {},
   "source": [
    "Often it is impossible to find complete datasets like this.  Imagine we instead had access only to a random sample of 100 restaurant inspections, called `restaurant_sample`.  That table is created below. We are interested in using this sample to estimate the population mean."
   ]
  },
  {
   "cell_type": "code",
   "execution_count": 82,
   "metadata": {},
   "outputs": [
    {
     "data": {
      "text/html": [
       "<table border=\"1\" class=\"dataframe\">\n",
       "    <thead>\n",
       "        <tr>\n",
       "            <th>Restaurant Name</th> <th>Zip Code</th> <th>Inspection Date</th> <th>Score</th> <th>Address</th>\n",
       "        </tr>\n",
       "    </thead>\n",
       "    <tbody>\n",
       "        <tr>\n",
       "            <td>Epicerie                               </td> <td>78756   </td> <td>07/27/2016     </td> <td>73   </td> <td>2307 HANCOCK DR\n",
       "AUSTIN, TX 78756\n",
       "(30.32477, -97.74352)      </td>\n",
       "        </tr>\n",
       "        <tr>\n",
       "            <td>Walgreens #4761                        </td> <td>78749   </td> <td>08/16/2016     </td> <td>100  </td> <td>6200 W WILLIAM CANNON DR\n",
       "AUSTIN, TX 78749\n",
       "(30.230355, -9 ...</td>\n",
       "        </tr>\n",
       "        <tr>\n",
       "            <td>ABIA Wok N Roll                        </td> <td>78719   </td> <td>10/14/2016     </td> <td>88   </td> <td>3600 PRESIDENTIAL BLVD\n",
       "AUSTIN, TX 78719\n",
       "(30.202654, -97. ...</td>\n",
       "        </tr>\n",
       "        <tr>\n",
       "            <td>Bamboo Bistro                          </td> <td>78758   </td> <td>08/07/2015     </td> <td>93   </td> <td>11101 BURNET RD Bunit 100\n",
       "AUSTIN, TX 78758\n",
       "(30.395863, - ...</td>\n",
       "        </tr>\n",
       "        <tr>\n",
       "            <td>Texas Residential & Vocational Services</td> <td>78723   </td> <td>08/26/2015     </td> <td>100  </td> <td>2107 BRUNSWICK DR\n",
       "AUSTIN, TX 78723\n",
       "(30.315774, -97.685242)  </td>\n",
       "        </tr>\n",
       "        <tr>\n",
       "            <td>Dobie Mall--Niki's Pizza               </td> <td>78705   </td> <td>04/17/2014     </td> <td>91   </td> <td>2021 GUADALUPE ST\n",
       "AUSTIN, TX 78705\n",
       "(30.283319, -97.742009)  </td>\n",
       "        </tr>\n",
       "        <tr>\n",
       "            <td>Kung Fu Tea                            </td> <td>78705   </td> <td>07/12/2016     </td> <td>99   </td> <td>801 W 24TH ST Unit D\n",
       "AUSTIN, TX 78705\n",
       "(30.288042, -97.74 ...</td>\n",
       "        </tr>\n",
       "        <tr>\n",
       "            <td>Angel's Ice House                      </td> <td>78669   </td> <td>02/19/2014     </td> <td>96   </td> <td>21815 W SH 71\n",
       "SPICEWOOD, TX 78669\n",
       "(30.364422, -98.070278)   </td>\n",
       "        </tr>\n",
       "        <tr>\n",
       "            <td>Blind Pig Pub                          </td> <td>78701   </td> <td>07/20/2016     </td> <td>82   </td> <td>317 E 6TH ST\n",
       "AUSTIN, TX 78701\n",
       "(30.267155, -97.739567)       </td>\n",
       "        </tr>\n",
       "        <tr>\n",
       "            <td>Wingzup                                </td> <td>78751   </td> <td>07/28/2014     </td> <td>93   </td> <td>1000 E 41ST ST Unit 210\n",
       "AUSTIN, TX 78751\n",
       "(30.298553, -97 ...</td>\n",
       "        </tr>\n",
       "    </tbody>\n",
       "</table>\n",
       "<p>... (90 rows omitted)</p>"
      ],
      "text/plain": [
       "Restaurant Name                         | Zip Code | Inspection Date | Score | Address\n",
       "Epicerie                                | 78756    | 07/27/2016      | 73    | 2307 HANCOCK DR\n",
       "AUSTIN, TX 78756\n",
       "(30.32477, -97.74352)\n",
       "Walgreens #4761                         | 78749    | 08/16/2016      | 100   | 6200 W WILLIAM CANNON DR\n",
       "AUSTIN, TX 78749\n",
       "(30.230355, -9 ...\n",
       "ABIA Wok N Roll                         | 78719    | 10/14/2016      | 88    | 3600 PRESIDENTIAL BLVD\n",
       "AUSTIN, TX 78719\n",
       "(30.202654, -97. ...\n",
       "Bamboo Bistro                           | 78758    | 08/07/2015      | 93    | 11101 BURNET RD Bunit 100\n",
       "AUSTIN, TX 78758\n",
       "(30.395863, - ...\n",
       "Texas Residential & Vocational Services | 78723    | 08/26/2015      | 100   | 2107 BRUNSWICK DR\n",
       "AUSTIN, TX 78723\n",
       "(30.315774, -97.685242)\n",
       "Dobie Mall--Niki's Pizza                | 78705    | 04/17/2014      | 91    | 2021 GUADALUPE ST\n",
       "AUSTIN, TX 78705\n",
       "(30.283319, -97.742009)\n",
       "Kung Fu Tea                             | 78705    | 07/12/2016      | 99    | 801 W 24TH ST Unit D\n",
       "AUSTIN, TX 78705\n",
       "(30.288042, -97.74 ...\n",
       "Angel's Ice House                       | 78669    | 02/19/2014      | 96    | 21815 W SH 71\n",
       "SPICEWOOD, TX 78669\n",
       "(30.364422, -98.070278)\n",
       "Blind Pig Pub                           | 78701    | 07/20/2016      | 82    | 317 E 6TH ST\n",
       "AUSTIN, TX 78701\n",
       "(30.267155, -97.739567)\n",
       "Wingzup                                 | 78751    | 07/28/2014      | 93    | 1000 E 41ST ST Unit 210\n",
       "AUSTIN, TX 78751\n",
       "(30.298553, -97 ...\n",
       "... (90 rows omitted)"
      ]
     },
     "execution_count": 82,
     "metadata": {},
     "output_type": "execute_result"
    }
   ],
   "source": [
    "restaurant_sample = pop_restaurants.sample(100, with_replacement=False)\n",
    "restaurant_sample"
   ]
  },
  {
   "cell_type": "markdown",
   "metadata": {},
   "source": [
    "Run the cell below to plot a histogram of the **sample** scores from `restaurant_sample`."
   ]
  },
  {
   "cell_type": "code",
   "execution_count": 83,
   "metadata": {
    "deletable": false
   },
   "outputs": [
    {
     "data": {
      "image/png": "[encoded data removed]",
      "text/plain": [
       "<Figure size 432x288 with 1 Axes>"
      ]
     },
     "metadata": {
      "needs_background": "light"
     },
     "output_type": "display_data"
    }
   ],
   "source": [
    "restaurant_sample.hist('Score') "
   ]
  },
  {
   "cell_type": "markdown",
   "metadata": {},
   "source": [
    "This is the **sample mean**:"
   ]
  },
  {
   "cell_type": "code",
   "execution_count": 84,
   "metadata": {},
   "outputs": [
    {
     "data": {
      "text/plain": [
       "91.9"
      ]
     },
     "execution_count": 84,
     "metadata": {},
     "output_type": "execute_result"
    }
   ],
   "source": [
    "sample_mean = np.mean(restaurant_sample.column('Score'))\n",
    "sample_mean"
   ]
  },
  {
   "cell_type": "markdown",
   "metadata": {
    "deletable": false,
    "editable": false
   },
   "source": [
    "#### Question 1\n",
    "Complete the function `one_resampled_mean` below. It should take in an original table `data`, with a column `Score`, and return the mean score of one resampling from `data`. \n",
    "\n",
    "Remember to **call** your function and check the output before moving on to autograder tests.\n",
    "<!--\n",
    "BEGIN QUESTION\n",
    "name: q1_1\n",
    "manual: false\n",
    "-->"
   ]
  },
  {
   "cell_type": "code",
   "execution_count": 85,
   "metadata": {},
   "outputs": [
    {
     "name": "stdout",
     "output_type": "stream",
     "text": [
      "91.47872122132392\n"
     ]
    }
   ],
   "source": [
    "def one_resampled_mean(data):\n",
    "    resampled_data = data.sample()\n",
    "    return np.mean(resampled_data.column('Score'))\n",
    "# Visualize one call of your function:\n",
    "this_mean = one_resampled_mean(pop_restaurants)\n",
    "print(this_mean)\n"
   ]
  },
  {
   "cell_type": "markdown",
   "metadata": {
    "deletable": false,
    "editable": false
   },
   "source": [
    "#### Question 2\n",
    "Complete the function `bootstrap_scores` below. It should take no arguments. It should simulate drawing 5000 resamples from `restaurant_sample` and compute the mean restaurant score in each resample.  It should return an array of those 5000 resample means.\n",
    "<!--\n",
    "BEGIN QUESTION\n",
    "name: q1_2\n",
    "manual: false\n",
    "-->"
   ]
  },
  {
   "cell_type": "code",
   "execution_count": 86,
   "metadata": {
    "deletable": false,
    "manual_problem_id": "restaurant_bootstrap_means"
   },
   "outputs": [
    {
     "data": {
      "text/plain": [
       "array([91.98, 91.78, 92.  , ..., 92.47, 91.5 , 90.69])"
      ]
     },
     "execution_count": 86,
     "metadata": {},
     "output_type": "execute_result"
    }
   ],
   "source": [
    "def bootstrap_scores():\n",
    "    resampled_means = make_array()\n",
    "    for i in range(5000):\n",
    "        resampled_mean = one_resampled_mean(restaurant_sample)\n",
    "        resampled_means = np.append(resampled_means,resampled_mean)\n",
    "    return resampled_means\n",
    "\n",
    "resampled_means = bootstrap_scores()\n",
    "resampled_means "
   ]
  },
  {
   "cell_type": "markdown",
   "metadata": {},
   "source": [
    "Take a look at the histogram of the **resampled means**."
   ]
  },
  {
   "cell_type": "code",
   "execution_count": 87,
   "metadata": {},
   "outputs": [
    {
     "data": {
      "image/png": "[encoded data removed]",
      "text/plain": [
       "<Figure size 432x288 with 1 Axes>"
      ]
     },
     "metadata": {
      "needs_background": "light"
     },
     "output_type": "display_data"
    }
   ],
   "source": [
    "Table().with_column('Resampled Means', resampled_means).hist()"
   ]
  },
  {
   "cell_type": "markdown",
   "metadata": {
    "deletable": false,
    "editable": false
   },
   "source": [
    "#### Question 3\n",
    "Compute a 95 percent confidence interval for the average restaurant score using the array `resampled_means`.\n",
    "<!--\n",
    "BEGIN QUESTION\n",
    "name: q1_3\n",
    "manual: false\n",
    "-->"
   ]
  },
  {
   "cell_type": "code",
   "execution_count": 88,
   "metadata": {
    "deletable": false,
    "manual_problem_id": "bootstrap_4"
   },
   "outputs": [
    {
     "name": "stdout",
     "output_type": "stream",
     "text": [
      "95% confidence interval for the average restaurant score, computed by bootstrapping:\n",
      "( 90.32 , 93.33 )\n"
     ]
    }
   ],
   "source": [
    "lower_bound = percentile(2.5, resampled_means)\n",
    "upper_bound = percentile(97.5, resampled_means)\n",
    "print(\"95% confidence interval for the average restaurant score, computed by bootstrapping:\\n(\",lower_bound, \",\", upper_bound, \")\")"
   ]
  },
  {
   "cell_type": "markdown",
   "metadata": {
    "deletable": false,
    "editable": false
   },
   "source": [
    "#### Question 4\n",
    "What distribution is the histogram between question 2 and 3 displaying (that is, what data are plotted), and why does it have that shape?\n",
    "<!--\n",
    "BEGIN QUESTION\n",
    "name: q1_4\n",
    "manual: true\n",
    "-->\n",
    "<!-- EXPORT TO PDF -->"
   ]
  },
  {
   "cell_type": "markdown",
   "metadata": {
    "deletable": false,
    "export_pdf": true,
    "manual_problem_id": "bootstrap_6"
   },
   "source": [
    "**restaurant_sample is just a random sample which is just one of numerous possible random samples, and thus an estimate from that data is just one of numerous plausible estimates. To understand the variability of all those random sample means, we use bootstrap which generates new random samples by a method called resampling: the new samples are drawn at random from the original sample.And in question two all these resampled means are calculated and plotted in a histogram to give us an idea about the varablilty of sample means of the different samples drawn from a population, but using only a single sample. We are doing resampling 5000 times as the law of large numbers state that when an experiment is repeated large number of times the estimate will be close to the real value. And when the sample is large enough theis real value will be close to population parameter.\n",
    "\n",
    "**The distribution of the means looks much closer to a normal distribution. This resemblance increases as the number of resamples increases. With 1,000 resamples, the distribution of the mean of the resamples is approximately normal.The central limit theorem is a fundamental theorem of probability and statistics. The theorem states that the distribution of the mean of a random sample from a population with finite variance is approximately normally distributed when the sample size is large, regardless of the shape of the population's distribution.**"
   ]
  },
  {
   "cell_type": "markdown",
   "metadata": {
    "deletable": false,
    "editable": false
   },
   "source": [
    "#### Question 5\n",
    "Does the distribution of the **sampled scores** look normally distributed? State \"yes\" or \"no\" and describe in one sentence why you should expect this result.\n",
    "\n",
    "**Hint:** Remember that we are no longer talking about the resampled means!\n",
    "<!--\n",
    "BEGIN QUESTION\n",
    "name: q1_5\n",
    "manual: true\n",
    "-->\n",
    "<!-- EXPORT TO PDF -->"
   ]
  },
  {
   "cell_type": "markdown",
   "metadata": {
    "deletable": false,
    "export_pdf": true,
    "manual_problem_id": "bootstrap_5"
   },
   "source": [
    "**The distribution of the means looks much closer to a normal distribution. This resemblance increases as the number of resamples increases. With 1,000 resamples, the distribution of the mean of the resamples is approximately normal.The central limit theorem is a fundamental theorem of probability and statistics. The theorem states that the distribution of the mean of a random sample from a population with finite variance is approximately normally distributed when the sample size is large, regardless of the shape of the population's distribution.**"
   ]
  },
  {
   "cell_type": "markdown",
   "metadata": {},
   "source": [
    "This is based on two facts:\n",
    "1. If a group of numbers has a normal distribution, around 95% of them lie within 2 standard deviations of their mean.\n",
    "2. The Central Limit Theorem tells us the quantitative relationship between the following:  \n",
    "    * the standard deviation of an array of numbers.\n",
    "    * the standard deviation of an array of means of samples taken from those numbers.\n",
    "      \n",
    "Also recall the standard deviation of sample means:  \n",
    "$\\texttt{sd of sample means from many samples from a distribution}  =   $$\\frac{\\texttt{sd of the original distribution}}{\\sqrt{\\texttt{sample size}}}$$ $\n",
    "\n",
    "So bootsraping does this in reverse order.\n",
    "it takes a sample , try to imitate a population from that sample, verify if it has a normal distribution to make inference about the population parameter."
   ]
  },
  {
   "cell_type": "markdown",
   "metadata": {
    "deletable": false,
    "editable": false
   },
   "source": [
    "#### Question 6\n",
    "Without referencing the array `resampled_means` or performing any new simulations, calculate an interval around the `sample_mean` that covers approximately 95% of the numbers in the `resampled_means` array.  **You may use the following values to compute your result, but you should not perform additional resampling** - think about how you can use the CLT to accomplish this.\n",
    "<!--\n",
    "BEGIN QUESTION\n",
    "name: q1_6\n",
    "manual: false\n",
    "-->"
   ]
  },
  {
   "cell_type": "code",
   "execution_count": 89,
   "metadata": {
    "deletable": false,
    "for_assignment_type": "student",
    "manual_problem_id": "bootstrap_7"
   },
   "outputs": [
    {
     "name": "stdout",
     "output_type": "stream",
     "text": [
      "95% confidence interval for the average restaurant score, computed by a normal approximation:\n",
      "( 90.36618327076104 , 93.43381672923897 )\n"
     ]
    }
   ],
   "source": [
    "sample_mean = np.mean(restaurant_sample.column('Score'))\n",
    "sample_sd = np.std(restaurant_sample.column('Score'))\n",
    "sample_size = restaurant_sample.num_rows\n",
    "\n",
    "sd_of_means = np.std(pop_restaurants.column('Score'))/np.sqrt(sample_size)\n",
    "lower_bound_normal = sample_mean - 2*sd_of_means\n",
    "upper_bound_normal = sample_mean + 2*sd_of_means\n",
    "print(\"95% confidence interval for the average restaurant score, computed by a normal approximation:\\n(\",lower_bound_normal, \",\", upper_bound_normal, \")\")"
   ]
  },
  {
   "cell_type": "markdown",
   "metadata": {},
   "source": [
    "This confidence interval should look very similar to the one you computed in **Question 3**."
   ]
  },
  {
   "cell_type": "markdown",
   "metadata": {},
   "source": [
    "## 2. Testing the Central Limit Theorem\n"
   ]
  },
  {
   "cell_type": "markdown",
   "metadata": {},
   "source": [
    "To recap the properties we just saw: The Central Limit Theorem tells us that the probability distribution of the **sum** or **average** of a large random sample drawn with replacement will be roughly normal, *regardless of the distribution of the population from which the sample is drawn*.\n",
    "\n",
    "That's a pretty big claim, but the theorem doesn't stop there. It further states that the standard deviation of this normal distribution is given by \n",
    "\n",
    "$$\\frac{\\texttt{sd of the original distribution}}{\\sqrt{\\texttt{sample size}}}$$ \n",
    "\n",
    "\n",
    "In other words, suppose we start with *any distribution* that has standard deviation $x$, take a sample of size $n$ (where $n$ is a large number) from that distribution with replacement, and compute the **mean** of that sample. If we repeat this procedure many times, then those sample means will have a normal distribution with standard deviation $\\frac{x}{\\sqrt{n}}$.\n",
    "\n",
    "That's an even bigger claim than the first one! The proof of the theorem is beyond the scope of this class, but in this exercise, we will be exploring some data to see the CLT in action."
   ]
  },
  {
   "cell_type": "markdown",
   "metadata": {
    "deletable": false,
    "editable": false
   },
   "source": [
    "<div class=\"hide\">\\pagebreak</div>\n",
    "\n",
    "**Question 1.** Define the function `one_statistic_prop_heads` which should return exactly one simulated statistic of the proportion of heads from $n$ coin flips.\n",
    "\n",
    "<!--\n",
    "BEGIN QUESTION\n",
    "name: q2_1\n",
    "manual: false\n",
    "-->"
   ]
  },
  {
   "cell_type": "code",
   "execution_count": 90,
   "metadata": {},
   "outputs": [],
   "source": [
    "coin_proportions = make_array(.5, .5) # our coin is fair\n",
    "\n",
    "def one_statistic_prop_heads(n):\n",
    "    simulated_proportions = sample_proportions(n, coin_proportions)\n",
    "    prop_heads = simulated_proportions.item(0)\n",
    "    return prop_heads"
   ]
  },
  {
   "cell_type": "markdown",
   "metadata": {
    "deletable": false,
    "editable": false
   },
   "source": [
    "<div class=\"hide\">\\pagebreak</div>\n",
    "\n",
    "**Question 2.** The CLT only applies when sample sizes are \"sufficiently large.\" This isn't a very precise statement. Is 10 large?  How about 50?  The truth is that it depends both on the original population distribution and just how \"normal\" you want the result to look. Let's use a simulation to get a feel for how the distribution of the sample mean changes as sample size goes up.\n",
    "\n",
    "Consider a coin flip. If we say `Heads` is $1$ and `Tails` is $0$, then there's a 50% chance of getting a 1 and a 50% chance of getting a 0, which definitely doesn't match our definition of a normal distribution.  The average of several coin tosses, where Heads is 1 and Tails is 0, is equal to the proportion of heads in those coin tosses (which is equivalent to the mean value of the coin tosses), so the CLT should hold **true** if we compute the sample proportion of heads many times.\n",
    "\n",
    "Write a function called `sample_size_n` that takes in a sample size $n$. It should return an array that contains 5000 sample proportions of heads, each from $n$ coin flips.\n",
    "\n",
    "<!--\n",
    "BEGIN QUESTION\n",
    "name: q2_2\n",
    "manual: false\n",
    "-->"
   ]
  },
  {
   "cell_type": "code",
   "execution_count": 91,
   "metadata": {
    "deletable": false,
    "manual_problem_id": "sample_sizes"
   },
   "outputs": [
    {
     "data": {
      "text/plain": [
       "array([0.48, 0.52, 0.38, ..., 0.6 , 0.4 , 0.6 ])"
      ]
     },
     "execution_count": 91,
     "metadata": {},
     "output_type": "execute_result"
    }
   ],
   "source": [
    "def sample_size_n(n):\n",
    "    coin_proportions = make_array(.5, .5) # our coin is fair\n",
    "    heads_proportions = make_array()\n",
    "    for i in np.arange(5000):\n",
    "        prop_heads = sample_proportions(n, coin_proportions)\n",
    "        heads_proportions = np.append(heads_proportions,prop_heads)\n",
    "    return heads_proportions\n",
    "\n",
    "sample_size_n(50)"
   ]
  },
  {
   "cell_type": "code",
   "execution_count": 95,
   "metadata": {},
   "outputs": [
    {
     "data": {
      "text/plain": [
       "39.480199851609314"
      ]
     },
     "execution_count": 95,
     "metadata": {},
     "output_type": "execute_result"
    }
   ],
   "source": [
    "#Load dataset for flights data\n",
    "dirpath1=\"https://raw.githubusercontent.com/data-8/materials-su19/master/materials/su19/hw/hw10/\"\n",
    "united = Table.read_table(dirpath1+'united_summer2015.csv')\n",
    "united_std = np.std(united.column('Delay'))\n",
    "united_std"
   ]
  },
  {
   "cell_type": "markdown",
   "metadata": {},
   "source": [
    "## <div class=\"hide\">\\pagebreak</div>\n",
    "\n",
    "**Question 2.3:** Write a function called `empirical_sample_mean_sd` that takes a sample size `n` as its argument. The function should simulate 500 samples with replacement of size `n` from the flight delays dataset, and it should return the standard deviation of the **means of those 500 samples**.\n",
    "\n",
    "*Hint:* This function will be similar to the `sample_size_n` function you wrote earlier.\n",
    "\n",
    "<!--\n",
    "BEGIN QUESTION\n",
    "name: q2_4\n",
    "manual: false\n",
    "-->"
   ]
  },
  {
   "cell_type": "code",
   "execution_count": 96,
   "metadata": {
    "deletable": false,
    "manual_problem_id": "empirical_sample_mean"
   },
   "outputs": [
    {
     "data": {
      "text/plain": [
       "11.72724646112633"
      ]
     },
     "execution_count": 96,
     "metadata": {},
     "output_type": "execute_result"
    }
   ],
   "source": [
    "def empirical_sample_mean_sd(n):\n",
    "    sample_means = make_array()\n",
    "    for i in np.arange(500):\n",
    "        sample = united.sample(n,with_replacement=True).column('Delay')\n",
    "        sample_mean = np.mean(sample)\n",
    "        sample_means = np.append(sample_means,sample_mean)\n",
    "    return np.std(sample_means)\n",
    "\n",
    "empirical_sample_mean_sd(10)"
   ]
  },
  {
   "cell_type": "markdown",
   "metadata": {},
   "source": [
    "**Question 2.4:** Now, write a function called `predict_sample_mean_sd` to find the predicted value of the standard deviation of means according to the relationship between the standard deviation of the sample mean and sample size that is discussed [here](https://www.inferentialthinking.com/chapters/14/5/variability-of-the-sample-mean.html) in the textbook. It takes a sample size `n` (a number) as its argument.  It returns the predicted value of the standard deviation of the mean delay time for samples of size `n` from the flight delays (represented in the table `united`).\n",
    "\n",
    "<!--\n",
    "BEGIN QUESTION\n",
    "name: q2_5\n",
    "manual: false\n",
    "-->"
   ]
  },
  {
   "cell_type": "code",
   "execution_count": 97,
   "metadata": {
    "deletable": false,
    "manual_problem_id": "predict_sample_mean_sd"
   },
   "outputs": [
    {
     "data": {
      "text/plain": [
       "12.484735400972708"
      ]
     },
     "execution_count": 97,
     "metadata": {},
     "output_type": "execute_result"
    }
   ],
   "source": [
    "def predict_sample_mean_sd(n):\n",
    "    return united_std/np.sqrt(n)\n",
    "\n",
    "predict_sample_mean_sd(10)"
   ]
  }
 ],
 "metadata": {
  "celltoolbar": "Raw Cell Format",
  "kernelspec": {
   "display_name": "Python 3",
   "language": "python",
   "name": "python3"
  },
  "language_info": {
   "codemirror_mode": {
    "name": "ipython",
    "version": 3
   },
   "file_extension": ".py",
   "mimetype": "text/x-python",
   "name": "python",
   "nbconvert_exporter": "python",
   "pygments_lexer": "ipython3",
   "version": "3.7.3"
  }
 },
 "nbformat": 4,
 "nbformat_minor": 1
}
