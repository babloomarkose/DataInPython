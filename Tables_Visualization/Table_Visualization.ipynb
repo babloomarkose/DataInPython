{
 "cells": [
  {
   "cell_type": "markdown",
   "metadata": {},
   "source": [
    "TASKS\n",
    "1. Add one column as \\continent\" in the dataset and label each country/region\n",
    "in the dataset to an appropriate continent such as \\Europe\", \\Asia\",\n",
    "\\Africa\", \\North America\", \\South America\", \\Australia\", or \\Antarc-\n",
    "tica\". Explain how do you validate the correctness of your labelling. Out-\n",
    "put the updated dataset as a new CSV \f",
    "le. (1 point). (Note: You must\n",
    "write a Python program to complete the labelling, manully labelling won't\n",
    "get any credit).\n",
    "2. Write a Python program to \f",
    "nd the country/region in each continent that\n",
    "has the highest average HIV estimated prevalence of people ages from 15\n",
    "to 49 of from year 2000 to 2011. Find the country/region in each continent\n",
    "that has the lowest average HIV estimated prevalence of people ages from\n",
    "15 to 49 of from year 2000 to 2011. Create a bar chart to show the highest\n",
    "average HIV estimated prevalence of people ages from 15 to 49 of from year\n",
    "2000 to 2011 in each continent (1 point). Create a bar chart to show the\n",
    "lowest average HIV estimated prevalence of people ages from 15 to 49 of\n",
    "from year 2000 to 2011 in each continent (1 point). Create an overlaid bar\n",
    "chart to show the highest and lowest average HIV estimated prevalence of\n",
    "people ages from 15 to 49 of from year 2000 to 2011 in each continent (1\n",
    "point). Select a country/region that is di\u000b",
    "erent from the average highest\n",
    "or lowest HIV estimated prevalence of people ages from 15 to 49 from year\n",
    "2000 to 2011 from each continent, then create an overlaid line chart for\n",
    "the selected country/region, the average highest and lowest HIV estimated\n",
    "prevalence of people ages from 15 to 49 from year 2000 to 2011 for each\n",
    "continent (1 point).\n",
    "3. Write a Python progrma to calculate the average HIV estimated preva-\n",
    "lence of people ages from 15 to 49 for each year in the dataset for each\n",
    "continent (you only need simply add the estimate prevalence number of\n",
    "all countries/regions and divided by the number of the countries/regions\n",
    "in the continent). Based on the calculation, create a line chart for each\n",
    "continent to show the changes of the average HIV estimated prevalence\n",
    "from 1979 to 2011 (1 point). Create an overlaid line chart for all conti-\n",
    "nents to show their changes of the average HIV estimated prevalence from\n",
    "1\n",
    "1979 to 2011 (1 point).\n",
    "4. Create two scatter plots to show the data (i.e. each country/region) in\n",
    "year 1990 and year 2010, respectively. The vertical axis in the scatter\n",
    "plot is the HIV estimated prevalence, and the horizontal axis is the corre-\n",
    "sponding year average HIV estimated prevalence in each continent, which\n",
    "you calculated above. Using di\u000b",
    "erent color to show data from di\u000b",
    "erent\n",
    "continent (1 point). If you found any interesting result from the charts,\n",
    "explain it.\n",
    "5. Write a report to explain how each question is implemented and its output\n",
    "graphs (2 point)."
   ]
  },
  {
   "cell_type": "code",
   "execution_count": null,
   "metadata": {},
   "outputs": [],
   "source": []
  }
 ],
 "metadata": {
  "kernelspec": {
   "display_name": "Python 3",
   "language": "python",
   "name": "python3"
  },
  "language_info": {
   "codemirror_mode": {
    "name": "ipython",
    "version": 3
   },
   "file_extension": ".py",
   "mimetype": "text/x-python",
   "name": "python",
   "nbconvert_exporter": "python",
   "pygments_lexer": "ipython3",
   "version": "3.7.3"
  }
 },
 "nbformat": 4,
 "nbformat_minor": 2
}
